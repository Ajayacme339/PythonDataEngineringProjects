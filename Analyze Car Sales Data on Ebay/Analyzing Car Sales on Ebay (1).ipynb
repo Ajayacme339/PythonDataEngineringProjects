{
 "cells": [
  {
   "cell_type": "markdown",
   "id": "45232235",
   "metadata": {},
   "source": [
    "This project is for Clean data and analysing the car sales on ebay website.Data set contains data which was available at kaggle website.\n",
    "The data dictionary provided with data is as follows:\n",
    "* dateCrawled - When this ad was first crawled. All field-values are taken from this date.\n",
    "* name - Name of the car.\n",
    "* seller - Whether the seller is private or a dealer.\n",
    "* offerType - The type of listing\n",
    "* price - The price on the ad to sell the car.\n",
    "* abtest - Whether the listing is included in an A/B test.\n",
    "* vehicleType - The vehicle Type.\n",
    "* yearOfRegistration - The year in which the car was first registered.\n",
    "* gearbox - The transmission type.\n",
    "* powerPS - The power of the car in PS.\n",
    "* model - The car model name.\n",
    "* odometer - How many kilometers the car has driven.\n",
    "* monthOfRegistration - The month in which the car was first registered.\n",
    "* fuelType - What type of fuel the car uses.\n",
    "* brand - The brand of the car.\n",
    "* notRepairedDamage - If the car has a damage which is not yet repaired.\n",
    "* dateCreated - The date on which the eBay listing was created.\n",
    "* nrOfPictures - The number of pictures in the ad.\n",
    "* postalCode - The postal code for the location of the vehicle.\n",
    "* lastSeenOnline - When the crawler saw this ad last online."
   ]
  },
  {
   "cell_type": "code",
   "execution_count": null,
   "id": "8daba861",
   "metadata": {},
   "outputs": [],
   "source": [
    "import pandas as pd \n",
    "import numpy as np \n",
    "autos = pd.read_csv(r\"C:\\Users\\ajaya\\Downloads\\autos.csv\")\n",
    "autos.head(2)\n"
   ]
  },
  {
   "cell_type": "code",
   "execution_count": null,
   "id": "40fc2af7",
   "metadata": {},
   "outputs": [],
   "source": [
    "autos"
   ]
  },
  {
   "cell_type": "code",
   "execution_count": null,
   "id": "b3d881fb",
   "metadata": {},
   "outputs": [],
   "source": [
    "autos.info()\n",
    "autos.head()"
   ]
  },
  {
   "cell_type": "markdown",
   "id": "85c16213",
   "metadata": {},
   "source": [
    "Autos dataframe has 20 columns and most of which are string and 371528 entries .some columns have null values .Close to 20% null values.Column names follow  a naming convention called camelcase. We'll start by cleaning the column names to make the data easier to work with."
   ]
  },
  {
   "cell_type": "code",
   "execution_count": null,
   "id": "9693bfdf",
   "metadata": {},
   "outputs": [],
   "source": [
    "autos.columns = ['date_crawled', 'name', 'seller', 'offer_type', 'price', 'ab_test',\n",
    "       'vehicle_type', 'registration_year', 'gearbox', 'power_ps', 'model',\n",
    "       'odometer', 'registration_month','fuel_type', 'brand',\n",
    "        'unrepaired_damage', 'created_ad', 'num_photos', 'postal_code',\n",
    "       'last_seen']\n",
    "autos.head()"
   ]
  },
  {
   "cell_type": "code",
   "execution_count": null,
   "id": "5e105b27",
   "metadata": {},
   "outputs": [],
   "source": [
    "autos.columns"
   ]
  },
  {
   "cell_type": "markdown",
   "id": "ce6b6b9e",
   "metadata": {},
   "source": [
    "\n",
    "some of the column names has been uppated from camelcase to snowflake.Some column names has been replaced with more meaningful names for better readability and understanding "
   ]
  },
  {
   "cell_type": "markdown",
   "id": "8857aac3",
   "metadata": {},
   "source": [
    "# Intial Data Exploration and Cleaning\n",
    "We will start with data exploration to explore obvious areas where we can do data cleaning"
   ]
  },
  {
   "cell_type": "code",
   "execution_count": null,
   "id": "0f8cd91e",
   "metadata": {},
   "outputs": [],
   "source": [
    "autos.describe(include = 'all')"
   ]
  },
  {
   "cell_type": "markdown",
   "id": "8d5a6a82",
   "metadata": {},
   "source": [
    "Our initial observations:\n",
    "There are a number of text columns where all (or nearly all) of the values are the same:\n",
    "* seller\n",
    "* offer_type\n",
    "* The num_photos column looks odd. We need to investigate"
   ]
  },
  {
   "cell_type": "code",
   "execution_count": null,
   "id": "06b72c71",
   "metadata": {},
   "outputs": [],
   "source": [
    "autos[\"num_photos\"].value_counts()"
   ]
  },
  {
   "cell_type": "markdown",
   "id": "ab23a22f",
   "metadata": {},
   "source": [
    "We will drop num_photos columns as it has all false values "
   ]
  },
  {
   "cell_type": "code",
   "execution_count": null,
   "id": "30c8fd5b",
   "metadata": {},
   "outputs": [],
   "source": [
    "\n",
    "autos[\"offer_type\"].head(10)\n",
    "\n",
    "\n"
   ]
  },
  {
   "cell_type": "markdown",
   "id": "07661344",
   "metadata": {},
   "source": [
    "Offer type column can be dropped because at has at most one value called Angebot."
   ]
  },
  {
   "cell_type": "code",
   "execution_count": null,
   "id": "e74cc066",
   "metadata": {},
   "outputs": [],
   "source": [
    "autos[\"seller\"].head(10)\n"
   ]
  },
  {
   "cell_type": "markdown",
   "id": "19727a38",
   "metadata": {},
   "source": [
    "Seller column needs to be dropped as at has at most 1 value "
   ]
  },
  {
   "cell_type": "code",
   "execution_count": null,
   "id": "0150f959",
   "metadata": {},
   "outputs": [],
   "source": [
    "\n",
    "autos = autos.drop([\"num_photos\", \"seller\", \"offer_type\"], axis=1)\n"
   ]
  },
  {
   "cell_type": "markdown",
   "id": "82bea2aa",
   "metadata": {},
   "source": [
    "we dropped below mentioned columns:\n",
    "* num_photos\n",
    "* seller\n",
    "* offer_type"
   ]
  },
  {
   "cell_type": "code",
   "execution_count": null,
   "id": "c1ccd257",
   "metadata": {},
   "outputs": [],
   "source": [
    "autos.info()"
   ]
  },
  {
   "cell_type": "code",
   "execution_count": null,
   "id": "b2156681",
   "metadata": {},
   "outputs": [],
   "source": [
    "autos.describe(include = 'all')"
   ]
  },
  {
   "cell_type": "code",
   "execution_count": null,
   "id": "56aff65c",
   "metadata": {},
   "outputs": [],
   "source": [
    "autos[\"price\"].head(15)"
   ]
  },
  {
   "cell_type": "markdown",
   "id": "472866f9",
   "metadata": {},
   "source": [
    "Price and Odometer is numeric column and value is stored as text . We will clean extra character."
   ]
  },
  {
   "cell_type": "code",
   "execution_count": null,
   "id": "14bbc90a",
   "metadata": {},
   "outputs": [],
   "source": [
    "autos['price'] = (autos['price'].astype(str).str.replace(\"$\",\"\"))\n",
    "autos['price'] = (autos['price'].astype(int))\n",
    "autos['price'].head()\n",
    "#autos.describe(include = 'all')\n"
   ]
  },
  {
   "cell_type": "code",
   "execution_count": null,
   "id": "9a0b17b9",
   "metadata": {},
   "outputs": [],
   "source": [
    "\n",
    "autos['odometer'].value_counts()"
   ]
  },
  {
   "cell_type": "code",
   "execution_count": null,
   "id": "8b8bd87a",
   "metadata": {},
   "outputs": [],
   "source": [
    "autos['odometer'] = (autos['odometer'].astype(str).str.replace(\"km\",\"\"))\n",
    "autos['odometer'] =  (autos['odometer'].astype(int))\n",
    "autos['odometer'].head()"
   ]
  },
  {
   "cell_type": "code",
   "execution_count": null,
   "id": "53f307c0",
   "metadata": {},
   "outputs": [],
   "source": [
    "autos.rename ({\"odometer\": \"odometer_km\"},axis=1,inplace =True)\n",
    "autos.columns"
   ]
  },
  {
   "cell_type": "markdown",
   "id": "ec0c5a68",
   "metadata": {},
   "source": [
    "# Exploring Odometer and Price\n"
   ]
  },
  {
   "cell_type": "code",
   "execution_count": null,
   "id": "1c6975eb",
   "metadata": {},
   "outputs": [],
   "source": [
    "autos[\"price\"].unique().shape\n",
    "autos[\"price\"].describe()\n",
    "autos[\"price\"].value_counts().head(20) \n",
    "autos[\"price\"].min()\n",
    "autos[\"price\"].max()\n",
    "\n"
   ]
  },
  {
   "cell_type": "code",
   "execution_count": null,
   "id": "0947fcd3",
   "metadata": {},
   "outputs": [],
   "source": [
    "autos[\"price\"].value_counts().sort_index(ascending=False).head(20)"
   ]
  },
  {
   "cell_type": "code",
   "execution_count": null,
   "id": "e85ab729",
   "metadata": {},
   "outputs": [],
   "source": [
    "autos[\"price\"].value_counts().sort_index(ascending=True).head(20)"
   ]
  },
  {
   "cell_type": "code",
   "execution_count": null,
   "id": "c7ab0cdf",
   "metadata": {},
   "outputs": [],
   "source": [
    "autos[\"price\"].value_counts().sort_index(ascending=True).head(20)"
   ]
  },
  {
   "cell_type": "markdown",
   "id": "bc85c712",
   "metadata": {},
   "source": [
    "Keep all the Car within range 1 to 350 .And drop remaining values"
   ]
  },
  {
   "cell_type": "code",
   "execution_count": null,
   "id": "1b603c6c",
   "metadata": {},
   "outputs": [],
   "source": [
    "\n",
    "autos = autos[autos[\"price\"].between(1,351000)]\n",
    "autos[\"price\"].describe()\n"
   ]
  },
  {
   "cell_type": "markdown",
   "id": "b090d2a7",
   "metadata": {},
   "source": [
    "## Exploring date Columns \n",
    "Currently there are 5 columns with Date Information:\n",
    "1.date_crawled\n",
    "2.registration_year\n",
    "3.registration_month\n",
    "4.created_ad\n",
    "5.last_seen\n",
    "\n",
    "for few columns we are getting data from crawler and few columns from the website.The non regsitred dates are stored as string.\n",
    "we will explore each column and learn about listing. \n"
   ]
  },
  {
   "cell_type": "code",
   "execution_count": null,
   "id": "87e4079f",
   "metadata": {},
   "outputs": [],
   "source": [
    "autos[['date_crawled','created_ad','last_seen']][0:5]"
   ]
  },
  {
   "cell_type": "code",
   "execution_count": null,
   "id": "07bad196",
   "metadata": {},
   "outputs": [],
   "source": [
    "(autos[\"last_seen\"]\n",
    "        .str[:10]\n",
    "        .value_counts(normalize=True, dropna=False)\n",
    "        .sort_index()\n",
    "        )"
   ]
  },
  {
   "cell_type": "code",
   "execution_count": null,
   "id": "55fc6293",
   "metadata": {},
   "outputs": [],
   "source": [
    "(autos[\"last_seen\"]\n",
    "        .str[:10]\n",
    "        .value_counts(normalize=True, dropna=False)\n",
    "        .sort_values()\n",
    "        )"
   ]
  },
  {
   "cell_type": "markdown",
   "id": "b8ab5b8d",
   "metadata": {},
   "source": [
    "The crawler recorded the date it last saw any listing, which allows us to determine on what day a listing was removed, presumably because the car was sold.\n",
    "\n",
    "The last three days contain a disproportionate amount of 'last seen' values. Given that these are 6-10x the values from the previous days, it's unlikely that there was a massive spike in sales, and more likely that these values are to do with the crawling period ending and don't indicate car sales."
   ]
  },
  {
   "cell_type": "code",
   "execution_count": null,
   "id": "81a81f77",
   "metadata": {},
   "outputs": [],
   "source": [
    "print(autos['created_ad'].str[:10].unique().shape)"
   ]
  },
  {
   "cell_type": "code",
   "execution_count": null,
   "id": "1e6633ff",
   "metadata": {},
   "outputs": [],
   "source": [
    "(autos[\"created_ad\"]\n",
    "        .str[:10]\n",
    "        .value_counts(normalize=True, dropna=False)\n",
    "        .sort_index()\n",
    "        )"
   ]
  },
  {
   "cell_type": "code",
   "execution_count": null,
   "id": "13d5c80e",
   "metadata": {},
   "outputs": [],
   "source": [
    "(autos[\"created_ad\"]\n",
    "        .str[:10]\n",
    "        .value_counts(normalize=True, dropna=False)\n",
    "        .sort_values()\n",
    "        )"
   ]
  },
  {
   "cell_type": "markdown",
   "id": "e81a5979",
   "metadata": {},
   "source": [
    "There is a large variety of ad created dates. Most fall within 1-2 months of the listing date, but a few are quite old, with the oldest at around 9 months."
   ]
  },
  {
   "cell_type": "code",
   "execution_count": null,
   "id": "986fef2e",
   "metadata": {},
   "outputs": [],
   "source": [
    "autos[\"registration_year\"].describe()"
   ]
  },
  {
   "cell_type": "markdown",
   "id": "a6807d19",
   "metadata": {},
   "source": [
    "The year that the car was first registered will likely indicate the age of the car. Looking at this column, we note some odd values. The minimum value is 1000, long before cars were invented and the maximum is 9999, many years into the future."
   ]
  },
  {
   "cell_type": "code",
   "execution_count": null,
   "id": "ef15fdd8",
   "metadata": {},
   "outputs": [],
   "source": [
    "(~autos[\"registration_year\"].between(1900,2016)).sum() / autos.shape[0]"
   ]
  },
  {
   "cell_type": "markdown",
   "id": "8f10f653",
   "metadata": {},
   "source": [
    "Given that this is less than 4% of our data, we will remove these rows."
   ]
  },
  {
   "cell_type": "code",
   "execution_count": null,
   "id": "55e4e9b6",
   "metadata": {},
   "outputs": [],
   "source": [
    "\n",
    "autos = autos[autos[\"registration_year\"].between(1900,2016)]\n",
    "autos[\"registration_year\"].value_counts(normalize=True).head(10)"
   ]
  },
  {
   "cell_type": "markdown",
   "id": "d44bfe10",
   "metadata": {},
   "source": [
    "It looks like most of the cars were registered in last 20 years"
   ]
  },
  {
   "cell_type": "code",
   "execution_count": null,
   "id": "28e75b73",
   "metadata": {},
   "outputs": [],
   "source": [
    "autos['brand'].describe()"
   ]
  },
  {
   "cell_type": "code",
   "execution_count": null,
   "id": "374e90c9",
   "metadata": {},
   "outputs": [],
   "source": [
    "autos[\"brand\"].value_counts(normalize=True)"
   ]
  },
  {
   "cell_type": "markdown",
   "id": "3b2c8da2",
   "metadata": {},
   "source": [
    "German manufacturers represent top five brands, almost 50% of the overall listings. Volkswagen is by far the most popular brand, with approximately double the cars for sale of the next two brands combined.\n",
    "\n",
    "There are lots of brands that don't have a significant percentage of listings, so we will limit our analysis to brands representing more than 5% of total listings."
   ]
  },
  {
   "cell_type": "code",
   "execution_count": null,
   "id": "e0a7d49b",
   "metadata": {},
   "outputs": [],
   "source": [
    "brand_counts = autos[\"brand\"].value_counts(normalize=True)\n",
    "most_common_brands = brand_counts[brand_counts > .05].index\n"
   ]
  },
  {
   "cell_type": "code",
   "execution_count": null,
   "id": "5a037031",
   "metadata": {},
   "outputs": [],
   "source": [
    "brand_mean_prices = {}\n",
    "\n",
    "for brand in most_common_brands:\n",
    "    brand_only = autos[autos[\"brand\"] == brand]\n",
    "    mean_price = brand_only[\"price\"].mean()\n",
    "    brand_mean_prices[brand] = int(mean_price)\n",
    "\n",
    "brand_mean_prices\n",
    "    "
   ]
  },
  {
   "cell_type": "markdown",
   "id": "8cd5fe23",
   "metadata": {},
   "source": [
    "Out of top 6 brand there is distnict price gap \n",
    "* Volkswagen,BMW,Mercedez benz and Audi is more expensive\n",
    "* Opel and Ford is less expensive \n",
    "* Volkswagen is in between"
   ]
  },
  {
   "cell_type": "code",
   "execution_count": null,
   "id": "0cb73efd",
   "metadata": {},
   "outputs": [],
   "source": [
    "bmp_series = pd.Series(brand_mean_prices)\n",
    "pd.DataFrame(bmp_series ,columns = [\"mean_price\"])"
   ]
  },
  {
   "cell_type": "code",
   "execution_count": null,
   "id": "b619fbf6",
   "metadata": {},
   "outputs": [],
   "source": [
    "brand_mean_mileage = {}\n",
    "\n",
    "for brand in most_common_brands:\n",
    "    brand_only = autos[autos[\"brand\"] == brand]\n",
    "    mean_mileage = brand_only[\"odometer_km\"].mean()\n",
    "    brand_mean_mileage[brand] = int(mean_mileage)\n",
    "\n",
    "mean_mileage = pd.Series(brand_mean_mileage).sort_values(ascending=False)\n",
    "mean_prices = pd.Series(brand_mean_prices).sort_values(ascending=False)"
   ]
  },
  {
   "cell_type": "code",
   "execution_count": null,
   "id": "b71f8004",
   "metadata": {},
   "outputs": [],
   "source": [
    "brand_detail = pd.DataFrame(mean_mileage,columns =['mean_mileage'])\n",
    "brand_detail"
   ]
  },
  {
   "cell_type": "code",
   "execution_count": null,
   "id": "4481f726",
   "metadata": {},
   "outputs": [],
   "source": [
    "brand_detail[\"mean_price\"] = mean_prices\n",
    "brand_detail"
   ]
  },
  {
   "cell_type": "markdown",
   "id": "1533531f",
   "metadata": {},
   "source": [
    "The range of car mileages does not vary as much as the prices do by brand, instead all falling within 10% for the top brands. There is a slight trend to the more expensive vehicles having higher mileage, with the less expensive vehicles having lower mileage."
   ]
  }
 ],
 "metadata": {
  "kernelspec": {
   "display_name": "Python 3 (ipykernel)",
   "language": "python",
   "name": "python3"
  },
  "language_info": {
   "codemirror_mode": {
    "name": "ipython",
    "version": 3
   },
   "file_extension": ".py",
   "mimetype": "text/x-python",
   "name": "python",
   "nbconvert_exporter": "python",
   "pygments_lexer": "ipython3",
   "version": "3.11.5"
  }
 },
 "nbformat": 4,
 "nbformat_minor": 5
}
