{
 "cells": [
  {
   "cell_type": "code",
   "execution_count": 1,
   "id": "d4c2d125",
   "metadata": {},
   "outputs": [
    {
     "data": {
      "text/html": [
       "<div>\n",
       "<style scoped>\n",
       "    .dataframe tbody tr th:only-of-type {\n",
       "        vertical-align: middle;\n",
       "    }\n",
       "\n",
       "    .dataframe tbody tr th {\n",
       "        vertical-align: top;\n",
       "    }\n",
       "\n",
       "    .dataframe thead th {\n",
       "        text-align: right;\n",
       "    }\n",
       "</style>\n",
       "<table border=\"1\" class=\"dataframe\">\n",
       "  <thead>\n",
       "    <tr style=\"text-align: right;\">\n",
       "      <th></th>\n",
       "      <th>month</th>\n",
       "      <th>trip_id</th>\n",
       "      <th>region_id</th>\n",
       "      <th>vehicle_id</th>\n",
       "      <th>started_at</th>\n",
       "      <th>ended_at</th>\n",
       "      <th>DURATION</th>\n",
       "      <th>start_location_name</th>\n",
       "      <th>end_location_name</th>\n",
       "      <th>user_id</th>\n",
       "      <th>trip_ledger_id</th>\n",
       "    </tr>\n",
       "  </thead>\n",
       "  <tbody>\n",
       "    <tr>\n",
       "      <th>0</th>\n",
       "      <td>May</td>\n",
       "      <td>1613335</td>\n",
       "      <td>202</td>\n",
       "      <td>9424537</td>\n",
       "      <td>5/21/2019 18:33</td>\n",
       "      <td>5/21/2019 18:40</td>\n",
       "      <td>0:07:03</td>\n",
       "      <td>1901 Roma Ave NE, Albuquerque, NM 87106, USA</td>\n",
       "      <td>1899 Roma Ave NE, Albuquerque, NM 87106, USA</td>\n",
       "      <td>8417864</td>\n",
       "      <td>1488546</td>\n",
       "    </tr>\n",
       "    <tr>\n",
       "      <th>1</th>\n",
       "      <td>May</td>\n",
       "      <td>1613639</td>\n",
       "      <td>202</td>\n",
       "      <td>9424537</td>\n",
       "      <td>5/21/2019 19:07</td>\n",
       "      <td>5/21/2019 19:12</td>\n",
       "      <td>0:04:57</td>\n",
       "      <td>1 Domenici Center en Domenici Center, Albuquer...</td>\n",
       "      <td>1111 Stanford Dr NE, Albuquerque, NM 87106, USA</td>\n",
       "      <td>8417864</td>\n",
       "      <td>1488838</td>\n",
       "    </tr>\n",
       "    <tr>\n",
       "      <th>2</th>\n",
       "      <td>May</td>\n",
       "      <td>1613708</td>\n",
       "      <td>202</td>\n",
       "      <td>9424537</td>\n",
       "      <td>5/21/2019 19:13</td>\n",
       "      <td>5/21/2019 19:15</td>\n",
       "      <td>0:01:14</td>\n",
       "      <td>1 Domenici Center en Domenici Center, Albuquer...</td>\n",
       "      <td>1 Domenici Center en Domenici Center, Albuquer...</td>\n",
       "      <td>8417864</td>\n",
       "      <td>1488851</td>\n",
       "    </tr>\n",
       "    <tr>\n",
       "      <th>3</th>\n",
       "      <td>May</td>\n",
       "      <td>1613867</td>\n",
       "      <td>202</td>\n",
       "      <td>9424537</td>\n",
       "      <td>5/21/2019 19:29</td>\n",
       "      <td>5/21/2019 19:36</td>\n",
       "      <td>0:06:58</td>\n",
       "      <td>Rotunda at Science &amp; Technology Park, 801 Univ...</td>\n",
       "      <td>725 University Blvd SE, Albuquerque, NM 87106,...</td>\n",
       "      <td>8417864</td>\n",
       "      <td>1489064</td>\n",
       "    </tr>\n",
       "    <tr>\n",
       "      <th>4</th>\n",
       "      <td>May</td>\n",
       "      <td>1636714</td>\n",
       "      <td>202</td>\n",
       "      <td>8926493</td>\n",
       "      <td>5/24/2019 13:38</td>\n",
       "      <td>5/24/2019 13:41</td>\n",
       "      <td>0:03:06</td>\n",
       "      <td>401 2nd St NW, Albuquerque, NM 87102, USA</td>\n",
       "      <td>401 2nd St NW, Albuquerque, NM 87102, USA</td>\n",
       "      <td>35436274</td>\n",
       "      <td>1511212</td>\n",
       "    </tr>\n",
       "  </tbody>\n",
       "</table>\n",
       "</div>"
      ],
      "text/plain": [
       "  month  trip_id  region_id  vehicle_id       started_at         ended_at  \\\n",
       "0   May  1613335        202     9424537  5/21/2019 18:33  5/21/2019 18:40   \n",
       "1   May  1613639        202     9424537  5/21/2019 19:07  5/21/2019 19:12   \n",
       "2   May  1613708        202     9424537  5/21/2019 19:13  5/21/2019 19:15   \n",
       "3   May  1613867        202     9424537  5/21/2019 19:29  5/21/2019 19:36   \n",
       "4   May  1636714        202     8926493  5/24/2019 13:38  5/24/2019 13:41   \n",
       "\n",
       "  DURATION                                start_location_name  \\\n",
       "0  0:07:03       1901 Roma Ave NE, Albuquerque, NM 87106, USA   \n",
       "1  0:04:57  1 Domenici Center en Domenici Center, Albuquer...   \n",
       "2  0:01:14  1 Domenici Center en Domenici Center, Albuquer...   \n",
       "3  0:06:58  Rotunda at Science & Technology Park, 801 Univ...   \n",
       "4  0:03:06          401 2nd St NW, Albuquerque, NM 87102, USA   \n",
       "\n",
       "                                   end_location_name   user_id  trip_ledger_id  \n",
       "0       1899 Roma Ave NE, Albuquerque, NM 87106, USA   8417864         1488546  \n",
       "1    1111 Stanford Dr NE, Albuquerque, NM 87106, USA   8417864         1488838  \n",
       "2  1 Domenici Center en Domenici Center, Albuquer...   8417864         1488851  \n",
       "3  725 University Blvd SE, Albuquerque, NM 87106,...   8417864         1489064  \n",
       "4          401 2nd St NW, Albuquerque, NM 87102, USA  35436274         1511212  "
      ]
     },
     "execution_count": 1,
     "metadata": {},
     "output_type": "execute_result"
    }
   ],
   "source": [
    "import pandas as pd \n",
    "scooter = pd.read_csv(r\"C:\\Users\\ajaya\\Downloads\\scooter.csv\")\n",
    "scooter.head(5)"
   ]
  },
  {
   "cell_type": "code",
   "execution_count": 2,
   "id": "7570ff15",
   "metadata": {},
   "outputs": [
    {
     "data": {
      "text/plain": [
       "Index(['month', 'trip_id', 'region_id', 'vehicle_id', 'started_at', 'ended_at',\n",
       "       'DURATION', 'start_location_name', 'end_location_name', 'user_id',\n",
       "       'trip_ledger_id'],\n",
       "      dtype='object')"
      ]
     },
     "execution_count": 2,
     "metadata": {},
     "output_type": "execute_result"
    }
   ],
   "source": [
    "scooter.columns"
   ]
  },
  {
   "cell_type": "code",
   "execution_count": 3,
   "id": "87cbbe4c",
   "metadata": {},
   "outputs": [
    {
     "name": "stdout",
     "output_type": "stream",
     "text": [
      "<class 'pandas.core.frame.DataFrame'>\n",
      "RangeIndex: 34226 entries, 0 to 34225\n",
      "Data columns (total 11 columns):\n",
      " #   Column               Non-Null Count  Dtype \n",
      "---  ------               --------------  ----- \n",
      " 0   month                34226 non-null  object\n",
      " 1   trip_id              34226 non-null  int64 \n",
      " 2   region_id            34226 non-null  int64 \n",
      " 3   vehicle_id           34226 non-null  int64 \n",
      " 4   started_at           34226 non-null  object\n",
      " 5   ended_at             34226 non-null  object\n",
      " 6   DURATION             31918 non-null  object\n",
      " 7   start_location_name  34220 non-null  object\n",
      " 8   end_location_name    32156 non-null  object\n",
      " 9   user_id              34226 non-null  int64 \n",
      " 10  trip_ledger_id       34226 non-null  int64 \n",
      "dtypes: int64(5), object(6)\n",
      "memory usage: 2.9+ MB\n"
     ]
    }
   ],
   "source": [
    "scooter.info()"
   ]
  },
  {
   "cell_type": "code",
   "execution_count": 4,
   "id": "65282ed9",
   "metadata": {},
   "outputs": [
    {
     "data": {
      "text/plain": [
       "month                  object\n",
       "trip_id                 int64\n",
       "region_id               int64\n",
       "vehicle_id              int64\n",
       "started_at             object\n",
       "ended_at               object\n",
       "DURATION               object\n",
       "start_location_name    object\n",
       "end_location_name      object\n",
       "user_id                 int64\n",
       "trip_ledger_id          int64\n",
       "dtype: object"
      ]
     },
     "execution_count": 4,
     "metadata": {},
     "output_type": "execute_result"
    }
   ],
   "source": [
    "scooter.dtypes"
   ]
  },
  {
   "cell_type": "code",
   "execution_count": 5,
   "id": "4bd9b3ec",
   "metadata": {},
   "outputs": [
    {
     "data": {
      "text/plain": [
       "(34226, 11)"
      ]
     },
     "execution_count": 5,
     "metadata": {},
     "output_type": "execute_result"
    }
   ],
   "source": [
    "scooter.shape"
   ]
  },
  {
   "cell_type": "code",
   "execution_count": 6,
   "id": "8f51a87a",
   "metadata": {},
   "outputs": [
    {
     "name": "stdout",
     "output_type": "stream",
     "text": [
      "month\n",
      "June    20259\n",
      "July     9742\n",
      "May      4225\n",
      "Name: count, dtype: int64\n"
     ]
    }
   ],
   "source": [
    "data_value_count = scooter['month'].value_counts()\n",
    "print(data_value_count)"
   ]
  },
  {
   "cell_type": "code",
   "execution_count": 7,
   "id": "1f9e866f",
   "metadata": {},
   "outputs": [
    {
     "name": "stdout",
     "output_type": "stream",
     "text": [
      "['May' 'June' 'July']\n"
     ]
    }
   ],
   "source": [
    "unique_month_value_count = scooter['month'].unique()\n",
    "print(unique_month_value_count)"
   ]
  },
  {
   "cell_type": "code",
   "execution_count": 8,
   "id": "f08ced84",
   "metadata": {},
   "outputs": [
    {
     "name": "stdout",
     "output_type": "stream",
     "text": [
      "   trip_id DURATION                                start_location_name\n",
      "0  1613335  0:07:03       1901 Roma Ave NE, Albuquerque, NM 87106, USA\n",
      "1  1613639  0:04:57  1 Domenici Center en Domenici Center, Albuquer...\n",
      "2  1613708  0:01:14  1 Domenici Center en Domenici Center, Albuquer...\n",
      "3  1613867  0:06:58  Rotunda at Science & Technology Park, 801 Univ...\n",
      "4  1636714  0:03:06          401 2nd St NW, Albuquerque, NM 87102, USA\n"
     ]
    }
   ],
   "source": [
    "trip_id_duration_start_loaction_name = scooter[['trip_id','DURATION','start_location_name']]\n",
    "print(trip_id_duration_start_loaction_name.head(5))"
   ]
  },
  {
   "cell_type": "code",
   "execution_count": 9,
   "id": "0482073c",
   "metadata": {},
   "outputs": [],
   "source": [
    "drop_column = scooter.drop(columns = ['trip_ledger_id'],inplace=True)"
   ]
  },
  {
   "cell_type": "code",
   "execution_count": 10,
   "id": "5811585b",
   "metadata": {},
   "outputs": [
    {
     "data": {
      "text/plain": [
       "Index(['month', 'trip_id', 'region_id', 'vehicle_id', 'started_at', 'ended_at',\n",
       "       'DURATION', 'start_location_name', 'end_location_name', 'user_id'],\n",
       "      dtype='object')"
      ]
     },
     "execution_count": 10,
     "metadata": {},
     "output_type": "execute_result"
    }
   ],
   "source": [
    "scooter.columns"
   ]
  },
  {
   "cell_type": "code",
   "execution_count": 11,
   "id": "0d69ac78",
   "metadata": {},
   "outputs": [
    {
     "data": {
      "text/html": [
       "<div>\n",
       "<style scoped>\n",
       "    .dataframe tbody tr th:only-of-type {\n",
       "        vertical-align: middle;\n",
       "    }\n",
       "\n",
       "    .dataframe tbody tr th {\n",
       "        vertical-align: top;\n",
       "    }\n",
       "\n",
       "    .dataframe thead th {\n",
       "        text-align: right;\n",
       "    }\n",
       "</style>\n",
       "<table border=\"1\" class=\"dataframe\">\n",
       "  <thead>\n",
       "    <tr style=\"text-align: right;\">\n",
       "      <th></th>\n",
       "      <th>month</th>\n",
       "      <th>trip_id</th>\n",
       "      <th>region_id</th>\n",
       "      <th>vehicle_id</th>\n",
       "      <th>started_at</th>\n",
       "      <th>ended_at</th>\n",
       "      <th>DURATION</th>\n",
       "      <th>start_location_name</th>\n",
       "      <th>end_location_name</th>\n",
       "      <th>user_id</th>\n",
       "    </tr>\n",
       "  </thead>\n",
       "  <tbody>\n",
       "    <tr>\n",
       "      <th>0</th>\n",
       "      <td>May</td>\n",
       "      <td>1613335</td>\n",
       "      <td>202</td>\n",
       "      <td>9424537</td>\n",
       "      <td>5/21/2019 18:33</td>\n",
       "      <td>5/21/2019 18:40</td>\n",
       "      <td>0:07:03</td>\n",
       "      <td>1901 Roma Ave NE, Albuquerque, NM 87106, USA</td>\n",
       "      <td>1899 Roma Ave NE, Albuquerque, NM 87106, USA</td>\n",
       "      <td>8417864</td>\n",
       "    </tr>\n",
       "    <tr>\n",
       "      <th>1</th>\n",
       "      <td>May</td>\n",
       "      <td>1613639</td>\n",
       "      <td>202</td>\n",
       "      <td>9424537</td>\n",
       "      <td>5/21/2019 19:07</td>\n",
       "      <td>5/21/2019 19:12</td>\n",
       "      <td>0:04:57</td>\n",
       "      <td>1 Domenici Center en Domenici Center, Albuquer...</td>\n",
       "      <td>1111 Stanford Dr NE, Albuquerque, NM 87106, USA</td>\n",
       "      <td>8417864</td>\n",
       "    </tr>\n",
       "    <tr>\n",
       "      <th>2</th>\n",
       "      <td>May</td>\n",
       "      <td>1613708</td>\n",
       "      <td>202</td>\n",
       "      <td>9424537</td>\n",
       "      <td>5/21/2019 19:13</td>\n",
       "      <td>5/21/2019 19:15</td>\n",
       "      <td>0:01:14</td>\n",
       "      <td>1 Domenici Center en Domenici Center, Albuquer...</td>\n",
       "      <td>1 Domenici Center en Domenici Center, Albuquer...</td>\n",
       "      <td>8417864</td>\n",
       "    </tr>\n",
       "    <tr>\n",
       "      <th>3</th>\n",
       "      <td>May</td>\n",
       "      <td>1613867</td>\n",
       "      <td>202</td>\n",
       "      <td>9424537</td>\n",
       "      <td>5/21/2019 19:29</td>\n",
       "      <td>5/21/2019 19:36</td>\n",
       "      <td>0:06:58</td>\n",
       "      <td>Rotunda at Science &amp; Technology Park, 801 Univ...</td>\n",
       "      <td>725 University Blvd SE, Albuquerque, NM 87106,...</td>\n",
       "      <td>8417864</td>\n",
       "    </tr>\n",
       "    <tr>\n",
       "      <th>4</th>\n",
       "      <td>May</td>\n",
       "      <td>1636714</td>\n",
       "      <td>202</td>\n",
       "      <td>8926493</td>\n",
       "      <td>5/24/2019 13:38</td>\n",
       "      <td>5/24/2019 13:41</td>\n",
       "      <td>0:03:06</td>\n",
       "      <td>401 2nd St NW, Albuquerque, NM 87102, USA</td>\n",
       "      <td>401 2nd St NW, Albuquerque, NM 87102, USA</td>\n",
       "      <td>35436274</td>\n",
       "    </tr>\n",
       "    <tr>\n",
       "      <th>5</th>\n",
       "      <td>May</td>\n",
       "      <td>1636780</td>\n",
       "      <td>202</td>\n",
       "      <td>3902020</td>\n",
       "      <td>5/24/2019 13:52</td>\n",
       "      <td>5/24/2019 14:13</td>\n",
       "      <td>0:21:27</td>\n",
       "      <td>520 Central Ave SW, Albuquerque, NM 87102, USA</td>\n",
       "      <td>3217 Pershing Ave SE, Albuquerque, NM 87106, USA</td>\n",
       "      <td>34352757</td>\n",
       "    </tr>\n",
       "    <tr>\n",
       "      <th>6</th>\n",
       "      <td>May</td>\n",
       "      <td>1636856</td>\n",
       "      <td>202</td>\n",
       "      <td>5192526</td>\n",
       "      <td>5/24/2019 14:04</td>\n",
       "      <td>5/24/2019 14:34</td>\n",
       "      <td>0:30:43</td>\n",
       "      <td>330 Tijeras Ave NW, Albuquerque, NM 87102, USA</td>\n",
       "      <td>809 Copper Ave NW, Albuquerque, NM 87102, USA</td>\n",
       "      <td>35466666</td>\n",
       "    </tr>\n",
       "    <tr>\n",
       "      <th>7</th>\n",
       "      <td>May</td>\n",
       "      <td>1636912</td>\n",
       "      <td>202</td>\n",
       "      <td>3902020</td>\n",
       "      <td>5/24/2019 14:14</td>\n",
       "      <td>5/24/2019 14:15</td>\n",
       "      <td>0:01:05</td>\n",
       "      <td>3217 Pershing Ave SE, Albuquerque, NM 87106, USA</td>\n",
       "      <td>802 Wellesley Dr SE, Albuquerque, NM 87106, USA</td>\n",
       "      <td>34352757</td>\n",
       "    </tr>\n",
       "    <tr>\n",
       "      <th>8</th>\n",
       "      <td>May</td>\n",
       "      <td>1637035</td>\n",
       "      <td>202</td>\n",
       "      <td>5192526</td>\n",
       "      <td>5/24/2019 14:37</td>\n",
       "      <td>5/24/2019 14:43</td>\n",
       "      <td>0:05:33</td>\n",
       "      <td>809 Copper Ave NW, Albuquerque, NM 87102, USA</td>\n",
       "      <td>809 Copper Ave NW, Albuquerque, NM 87102, USA</td>\n",
       "      <td>35466666</td>\n",
       "    </tr>\n",
       "    <tr>\n",
       "      <th>9</th>\n",
       "      <td>May</td>\n",
       "      <td>1637036</td>\n",
       "      <td>202</td>\n",
       "      <td>9885684</td>\n",
       "      <td>5/24/2019 14:38</td>\n",
       "      <td>5/24/2019 15:09</td>\n",
       "      <td>0:31:54</td>\n",
       "      <td>2901 Central Ave NE, Albuquerque, NM 87106, USA</td>\n",
       "      <td>2000 Zearing Ave NW, Albuquerque, NM 87104, USA</td>\n",
       "      <td>34352757</td>\n",
       "    </tr>\n",
       "  </tbody>\n",
       "</table>\n",
       "</div>"
      ],
      "text/plain": [
       "  month  trip_id  region_id  vehicle_id       started_at         ended_at  \\\n",
       "0   May  1613335        202     9424537  5/21/2019 18:33  5/21/2019 18:40   \n",
       "1   May  1613639        202     9424537  5/21/2019 19:07  5/21/2019 19:12   \n",
       "2   May  1613708        202     9424537  5/21/2019 19:13  5/21/2019 19:15   \n",
       "3   May  1613867        202     9424537  5/21/2019 19:29  5/21/2019 19:36   \n",
       "4   May  1636714        202     8926493  5/24/2019 13:38  5/24/2019 13:41   \n",
       "5   May  1636780        202     3902020  5/24/2019 13:52  5/24/2019 14:13   \n",
       "6   May  1636856        202     5192526  5/24/2019 14:04  5/24/2019 14:34   \n",
       "7   May  1636912        202     3902020  5/24/2019 14:14  5/24/2019 14:15   \n",
       "8   May  1637035        202     5192526  5/24/2019 14:37  5/24/2019 14:43   \n",
       "9   May  1637036        202     9885684  5/24/2019 14:38  5/24/2019 15:09   \n",
       "\n",
       "  DURATION                                start_location_name  \\\n",
       "0  0:07:03       1901 Roma Ave NE, Albuquerque, NM 87106, USA   \n",
       "1  0:04:57  1 Domenici Center en Domenici Center, Albuquer...   \n",
       "2  0:01:14  1 Domenici Center en Domenici Center, Albuquer...   \n",
       "3  0:06:58  Rotunda at Science & Technology Park, 801 Univ...   \n",
       "4  0:03:06          401 2nd St NW, Albuquerque, NM 87102, USA   \n",
       "5  0:21:27     520 Central Ave SW, Albuquerque, NM 87102, USA   \n",
       "6  0:30:43     330 Tijeras Ave NW, Albuquerque, NM 87102, USA   \n",
       "7  0:01:05   3217 Pershing Ave SE, Albuquerque, NM 87106, USA   \n",
       "8  0:05:33      809 Copper Ave NW, Albuquerque, NM 87102, USA   \n",
       "9  0:31:54    2901 Central Ave NE, Albuquerque, NM 87106, USA   \n",
       "\n",
       "                                   end_location_name   user_id  \n",
       "0       1899 Roma Ave NE, Albuquerque, NM 87106, USA   8417864  \n",
       "1    1111 Stanford Dr NE, Albuquerque, NM 87106, USA   8417864  \n",
       "2  1 Domenici Center en Domenici Center, Albuquer...   8417864  \n",
       "3  725 University Blvd SE, Albuquerque, NM 87106,...   8417864  \n",
       "4          401 2nd St NW, Albuquerque, NM 87102, USA  35436274  \n",
       "5   3217 Pershing Ave SE, Albuquerque, NM 87106, USA  34352757  \n",
       "6      809 Copper Ave NW, Albuquerque, NM 87102, USA  35466666  \n",
       "7    802 Wellesley Dr SE, Albuquerque, NM 87106, USA  34352757  \n",
       "8      809 Copper Ave NW, Albuquerque, NM 87102, USA  35466666  \n",
       "9    2000 Zearing Ave NW, Albuquerque, NM 87104, USA  34352757  "
      ]
     },
     "execution_count": 11,
     "metadata": {},
     "output_type": "execute_result"
    }
   ],
   "source": [
    "scooter[:10]"
   ]
  },
  {
   "cell_type": "code",
   "execution_count": 12,
   "id": "6803768b",
   "metadata": {},
   "outputs": [
    {
     "data": {
      "text/html": [
       "<div>\n",
       "<style scoped>\n",
       "    .dataframe tbody tr th:only-of-type {\n",
       "        vertical-align: middle;\n",
       "    }\n",
       "\n",
       "    .dataframe tbody tr th {\n",
       "        vertical-align: top;\n",
       "    }\n",
       "\n",
       "    .dataframe thead th {\n",
       "        text-align: right;\n",
       "    }\n",
       "</style>\n",
       "<table border=\"1\" class=\"dataframe\">\n",
       "  <thead>\n",
       "    <tr style=\"text-align: right;\">\n",
       "      <th></th>\n",
       "      <th>month</th>\n",
       "      <th>trip_id</th>\n",
       "      <th>region_id</th>\n",
       "      <th>vehicle_id</th>\n",
       "      <th>started_at</th>\n",
       "      <th>ended_at</th>\n",
       "      <th>DURATION</th>\n",
       "      <th>start_location_name</th>\n",
       "      <th>end_location_name</th>\n",
       "      <th>user_id</th>\n",
       "    </tr>\n",
       "  </thead>\n",
       "  <tbody>\n",
       "    <tr>\n",
       "      <th>0</th>\n",
       "      <td>May</td>\n",
       "      <td>1613335</td>\n",
       "      <td>202</td>\n",
       "      <td>9424537</td>\n",
       "      <td>5/21/2019 18:33</td>\n",
       "      <td>5/21/2019 18:40</td>\n",
       "      <td>0:07:03</td>\n",
       "      <td>1901 Roma Ave NE, Albuquerque, NM 87106, USA</td>\n",
       "      <td>1899 Roma Ave NE, Albuquerque, NM 87106, USA</td>\n",
       "      <td>8417864</td>\n",
       "    </tr>\n",
       "    <tr>\n",
       "      <th>1</th>\n",
       "      <td>May</td>\n",
       "      <td>1613639</td>\n",
       "      <td>202</td>\n",
       "      <td>9424537</td>\n",
       "      <td>5/21/2019 19:07</td>\n",
       "      <td>5/21/2019 19:12</td>\n",
       "      <td>0:04:57</td>\n",
       "      <td>1 Domenici Center en Domenici Center, Albuquer...</td>\n",
       "      <td>1111 Stanford Dr NE, Albuquerque, NM 87106, USA</td>\n",
       "      <td>8417864</td>\n",
       "    </tr>\n",
       "    <tr>\n",
       "      <th>2</th>\n",
       "      <td>May</td>\n",
       "      <td>1613708</td>\n",
       "      <td>202</td>\n",
       "      <td>9424537</td>\n",
       "      <td>5/21/2019 19:13</td>\n",
       "      <td>5/21/2019 19:15</td>\n",
       "      <td>0:01:14</td>\n",
       "      <td>1 Domenici Center en Domenici Center, Albuquer...</td>\n",
       "      <td>1 Domenici Center en Domenici Center, Albuquer...</td>\n",
       "      <td>8417864</td>\n",
       "    </tr>\n",
       "    <tr>\n",
       "      <th>3</th>\n",
       "      <td>May</td>\n",
       "      <td>1613867</td>\n",
       "      <td>202</td>\n",
       "      <td>9424537</td>\n",
       "      <td>5/21/2019 19:29</td>\n",
       "      <td>5/21/2019 19:36</td>\n",
       "      <td>0:06:58</td>\n",
       "      <td>Rotunda at Science &amp; Technology Park, 801 Univ...</td>\n",
       "      <td>725 University Blvd SE, Albuquerque, NM 87106,...</td>\n",
       "      <td>8417864</td>\n",
       "    </tr>\n",
       "    <tr>\n",
       "      <th>4</th>\n",
       "      <td>May</td>\n",
       "      <td>1636714</td>\n",
       "      <td>202</td>\n",
       "      <td>8926493</td>\n",
       "      <td>5/24/2019 13:38</td>\n",
       "      <td>5/24/2019 13:41</td>\n",
       "      <td>0:03:06</td>\n",
       "      <td>401 2nd St NW, Albuquerque, NM 87102, USA</td>\n",
       "      <td>401 2nd St NW, Albuquerque, NM 87102, USA</td>\n",
       "      <td>35436274</td>\n",
       "    </tr>\n",
       "  </tbody>\n",
       "</table>\n",
       "</div>"
      ],
      "text/plain": [
       "  month  trip_id  region_id  vehicle_id       started_at         ended_at  \\\n",
       "0   May  1613335        202     9424537  5/21/2019 18:33  5/21/2019 18:40   \n",
       "1   May  1613639        202     9424537  5/21/2019 19:07  5/21/2019 19:12   \n",
       "2   May  1613708        202     9424537  5/21/2019 19:13  5/21/2019 19:15   \n",
       "3   May  1613867        202     9424537  5/21/2019 19:29  5/21/2019 19:36   \n",
       "4   May  1636714        202     8926493  5/24/2019 13:38  5/24/2019 13:41   \n",
       "\n",
       "  DURATION                                start_location_name  \\\n",
       "0  0:07:03       1901 Roma Ave NE, Albuquerque, NM 87106, USA   \n",
       "1  0:04:57  1 Domenici Center en Domenici Center, Albuquer...   \n",
       "2  0:01:14  1 Domenici Center en Domenici Center, Albuquer...   \n",
       "3  0:06:58  Rotunda at Science & Technology Park, 801 Univ...   \n",
       "4  0:03:06          401 2nd St NW, Albuquerque, NM 87102, USA   \n",
       "\n",
       "                                   end_location_name   user_id  \n",
       "0       1899 Roma Ave NE, Albuquerque, NM 87106, USA   8417864  \n",
       "1    1111 Stanford Dr NE, Albuquerque, NM 87106, USA   8417864  \n",
       "2  1 Domenici Center en Domenici Center, Albuquer...   8417864  \n",
       "3  725 University Blvd SE, Albuquerque, NM 87106,...   8417864  \n",
       "4          401 2nd St NW, Albuquerque, NM 87102, USA  35436274  "
      ]
     },
     "execution_count": 12,
     "metadata": {},
     "output_type": "execute_result"
    }
   ],
   "source": [
    "scooter[0:5]"
   ]
  },
  {
   "cell_type": "code",
   "execution_count": 13,
   "id": "1a313b27",
   "metadata": {},
   "outputs": [
    {
     "name": "stdout",
     "output_type": "stream",
     "text": [
      "  month  trip_id  region_id  vehicle_id       started_at         ended_at  \\\n",
      "4   May  1636714        202     8926493  5/24/2019 13:38  5/24/2019 13:41   \n",
      "\n",
      "  DURATION                        start_location_name  \\\n",
      "4  0:03:06  401 2nd St NW, Albuquerque, NM 87102, USA   \n",
      "\n",
      "                           end_location_name   user_id  \n",
      "4  401 2nd St NW, Albuquerque, NM 87102, USA  35436274  \n"
     ]
    }
   ],
   "source": [
    "selecting_specific_user = scooter[scooter['user_id']==35436274]\n",
    "print(selecting_specific_user)"
   ]
  },
  {
   "cell_type": "markdown",
   "id": "1d38d2aa",
   "metadata": {},
   "source": [
    "# Analyzing the Data"
   ]
  },
  {
   "cell_type": "code",
   "execution_count": 14,
   "id": "1855e74a",
   "metadata": {},
   "outputs": [
    {
     "data": {
      "text/html": [
       "<div>\n",
       "<style scoped>\n",
       "    .dataframe tbody tr th:only-of-type {\n",
       "        vertical-align: middle;\n",
       "    }\n",
       "\n",
       "    .dataframe tbody tr th {\n",
       "        vertical-align: top;\n",
       "    }\n",
       "\n",
       "    .dataframe thead th {\n",
       "        text-align: right;\n",
       "    }\n",
       "</style>\n",
       "<table border=\"1\" class=\"dataframe\">\n",
       "  <thead>\n",
       "    <tr style=\"text-align: right;\">\n",
       "      <th></th>\n",
       "      <th>trip_id</th>\n",
       "      <th>region_id</th>\n",
       "      <th>vehicle_id</th>\n",
       "      <th>user_id</th>\n",
       "    </tr>\n",
       "  </thead>\n",
       "  <tbody>\n",
       "    <tr>\n",
       "      <th>count</th>\n",
       "      <td>3.422600e+04</td>\n",
       "      <td>34226.0</td>\n",
       "      <td>3.422600e+04</td>\n",
       "      <td>3.422600e+04</td>\n",
       "    </tr>\n",
       "    <tr>\n",
       "      <th>mean</th>\n",
       "      <td>2.004438e+06</td>\n",
       "      <td>202.0</td>\n",
       "      <td>5.589507e+06</td>\n",
       "      <td>3.875420e+07</td>\n",
       "    </tr>\n",
       "    <tr>\n",
       "      <th>std</th>\n",
       "      <td>2.300476e+05</td>\n",
       "      <td>0.0</td>\n",
       "      <td>2.627164e+06</td>\n",
       "      <td>4.275441e+06</td>\n",
       "    </tr>\n",
       "    <tr>\n",
       "      <th>min</th>\n",
       "      <td>1.613335e+06</td>\n",
       "      <td>202.0</td>\n",
       "      <td>1.034847e+06</td>\n",
       "      <td>1.080200e+04</td>\n",
       "    </tr>\n",
       "    <tr>\n",
       "      <th>25%</th>\n",
       "      <td>1.813521e+06</td>\n",
       "      <td>202.0</td>\n",
       "      <td>3.260435e+06</td>\n",
       "      <td>3.665710e+07</td>\n",
       "    </tr>\n",
       "    <tr>\n",
       "      <th>50%</th>\n",
       "      <td>1.962520e+06</td>\n",
       "      <td>202.0</td>\n",
       "      <td>5.617097e+06</td>\n",
       "      <td>3.880750e+07</td>\n",
       "    </tr>\n",
       "    <tr>\n",
       "      <th>75%</th>\n",
       "      <td>2.182324e+06</td>\n",
       "      <td>202.0</td>\n",
       "      <td>8.012871e+06</td>\n",
       "      <td>4.222774e+07</td>\n",
       "    </tr>\n",
       "    <tr>\n",
       "      <th>max</th>\n",
       "      <td>2.482335e+06</td>\n",
       "      <td>202.0</td>\n",
       "      <td>9.984848e+06</td>\n",
       "      <td>4.258732e+07</td>\n",
       "    </tr>\n",
       "  </tbody>\n",
       "</table>\n",
       "</div>"
      ],
      "text/plain": [
       "            trip_id  region_id    vehicle_id       user_id\n",
       "count  3.422600e+04    34226.0  3.422600e+04  3.422600e+04\n",
       "mean   2.004438e+06      202.0  5.589507e+06  3.875420e+07\n",
       "std    2.300476e+05        0.0  2.627164e+06  4.275441e+06\n",
       "min    1.613335e+06      202.0  1.034847e+06  1.080200e+04\n",
       "25%    1.813521e+06      202.0  3.260435e+06  3.665710e+07\n",
       "50%    1.962520e+06      202.0  5.617097e+06  3.880750e+07\n",
       "75%    2.182324e+06      202.0  8.012871e+06  4.222774e+07\n",
       "max    2.482335e+06      202.0  9.984848e+06  4.258732e+07"
      ]
     },
     "execution_count": 14,
     "metadata": {},
     "output_type": "execute_result"
    }
   ],
   "source": [
    "scooter.describe()"
   ]
  },
  {
   "cell_type": "code",
   "execution_count": 15,
   "id": "c29be24e",
   "metadata": {},
   "outputs": [
    {
     "data": {
      "text/plain": [
       "count    3.422600e+04\n",
       "mean     2.004438e+06\n",
       "std      2.300476e+05\n",
       "min      1.613335e+06\n",
       "25%      1.813521e+06\n",
       "50%      1.962520e+06\n",
       "75%      2.182324e+06\n",
       "max      2.482335e+06\n",
       "Name: trip_id, dtype: float64"
      ]
     },
     "execution_count": 15,
     "metadata": {},
     "output_type": "execute_result"
    }
   ],
   "source": [
    "scooter['trip_id'].describe()"
   ]
  },
  {
   "cell_type": "code",
   "execution_count": 16,
   "id": "36f899ac",
   "metadata": {},
   "outputs": [
    {
     "name": "stdout",
     "output_type": "stream",
     "text": [
      "count                                               34220\n",
      "unique                                               2972\n",
      "top       1898 Mountain Rd NW, Albuquerque, NM 87104, USA\n",
      "freq                                                 1210\n",
      "Name: start_location_name, dtype: object\n"
     ]
    }
   ],
   "source": [
    "describe_start_location = scooter['start_location_name'].describe()\n",
    "print(describe_start_location)"
   ]
  },
  {
   "cell_type": "code",
   "execution_count": 17,
   "id": "25bd538c",
   "metadata": {},
   "outputs": [
    {
     "name": "stdout",
     "output_type": "stream",
     "text": [
      "count       31918\n",
      "unique       4135\n",
      "top       0:04:00\n",
      "freq          825\n",
      "Name: DURATION, dtype: object\n"
     ]
    }
   ],
   "source": [
    "describe_duration = scooter['DURATION'].describe()\n",
    "print(describe_duration)"
   ]
  },
  {
   "cell_type": "code",
   "execution_count": 18,
   "id": "bec457e3",
   "metadata": {},
   "outputs": [
    {
     "name": "stdout",
     "output_type": "stream",
     "text": [
      "DURATION\n",
      "0:04:00     825\n",
      "0:03:00     807\n",
      "0:05:00     728\n",
      "0:06:00     649\n",
      "0:07:00     627\n",
      "           ... \n",
      "0:40:15       1\n",
      "39:24:42      1\n",
      "0:43:09       1\n",
      "1:05:10       1\n",
      "1:12:07       1\n",
      "Name: count, Length: 4135, dtype: int64\n"
     ]
    }
   ],
   "source": [
    "values_count_duration = scooter['DURATION'].value_counts()\n",
    "print(values_count_duration)"
   ]
  },
  {
   "cell_type": "code",
   "execution_count": 19,
   "id": "23f4e9fb",
   "metadata": {},
   "outputs": [
    {
     "name": "stdout",
     "output_type": "stream",
     "text": [
      "825\n"
     ]
    }
   ],
   "source": [
    "maxium_values_count_duration = scooter['DURATION'].value_counts().max()\n",
    "print(maxium_values_count_duration)"
   ]
  },
  {
   "cell_type": "code",
   "execution_count": 20,
   "id": "cc9a50ca",
   "metadata": {},
   "outputs": [
    {
     "name": "stdout",
     "output_type": "stream",
     "text": [
      "DURATION\n",
      "0:04:00     0.025847\n",
      "0:03:00     0.025284\n",
      "0:05:00     0.022808\n",
      "0:06:00     0.020333\n",
      "0:07:00     0.019644\n",
      "              ...   \n",
      "0:40:15     0.000031\n",
      "39:24:42    0.000031\n",
      "0:43:09     0.000031\n",
      "1:05:10     0.000031\n",
      "1:12:07     0.000031\n",
      "Name: proportion, Length: 4135, dtype: float64\n"
     ]
    }
   ],
   "source": [
    "normalize_values_count_duration = scooter['DURATION'].value_counts(normalize=True)\n",
    "print(normalize_values_count_duration)"
   ]
  },
  {
   "cell_type": "code",
   "execution_count": 21,
   "id": "43a29e92",
   "metadata": {},
   "outputs": [
    {
     "name": "stdout",
     "output_type": "stream",
     "text": [
      "end_location_name\n",
      "NaN                                                  2070\n",
      "1898 Mountain Rd NW, Albuquerque, NM 87104, USA       802\n",
      "Central @ Tingley, Albuquerque, NM 87104, USA         622\n",
      "330 Tijeras Ave NW, Albuquerque, NM 87102, USA        529\n",
      "2550 Central Ave NE, Albuquerque, NM 87106, USA       478\n",
      "                                                     ... \n",
      "116 Washington St SE, Albuquerque, NM 87108, USA        1\n",
      "716 Commercial St SE, Albuquerque, NM 87102, USA        1\n",
      "119 Walter St SE, Albuquerque, NM 87102, USA            1\n",
      "3801 Carlisle Blvd NE, Albuquerque, NM 87107, USA       1\n",
      "1413 4th St SW, Albuquerque, NM 87102, USA              1\n",
      "Name: count, Length: 4264, dtype: int64\n"
     ]
    }
   ],
   "source": [
    "#To get NA Values we need to put dropna=False\n",
    "end_values_duration_count = scooter['end_location_name'].value_counts(dropna=False)\n",
    "print(end_values_duration_count)"
   ]
  },
  {
   "cell_type": "code",
   "execution_count": 22,
   "id": "fb5d6e7e",
   "metadata": {},
   "outputs": [
    {
     "name": "stdout",
     "output_type": "stream",
     "text": [
      "end_location_name\n",
      "1898 Mountain Rd NW, Albuquerque, NM 87104, USA      802\n",
      "Central @ Tingley, Albuquerque, NM 87104, USA        622\n",
      "330 Tijeras Ave NW, Albuquerque, NM 87102, USA       529\n",
      "2550 Central Ave NE, Albuquerque, NM 87106, USA      478\n",
      "201 Marquette Ave NW, Albuquerque, NM 87102, USA     387\n",
      "                                                    ... \n",
      "116 Washington St SE, Albuquerque, NM 87108, USA       1\n",
      "716 Commercial St SE, Albuquerque, NM 87102, USA       1\n",
      "119 Walter St SE, Albuquerque, NM 87102, USA           1\n",
      "3801 Carlisle Blvd NE, Albuquerque, NM 87107, USA      1\n",
      "1413 4th St SW, Albuquerque, NM 87102, USA             1\n",
      "Name: count, Length: 4263, dtype: int64\n"
     ]
    }
   ],
   "source": [
    "#To get NA Values we need to put dropna=False\n",
    "end_values_duration_count_dropna_true = scooter['end_location_name'].value_counts(dropna=True)\n",
    "print(end_values_duration_count_dropna_true)"
   ]
  },
  {
   "cell_type": "code",
   "execution_count": 23,
   "id": "c703f72c",
   "metadata": {},
   "outputs": [
    {
     "name": "stdout",
     "output_type": "stream",
     "text": [
      "month                     0\n",
      "trip_id                   0\n",
      "region_id                 0\n",
      "vehicle_id                0\n",
      "started_at                0\n",
      "ended_at                  0\n",
      "DURATION               2308\n",
      "start_location_name       6\n",
      "end_location_name      2070\n",
      "user_id                   0\n",
      "dtype: int64\n"
     ]
    }
   ],
   "source": [
    "\n",
    "#find null values in columns_sum \n",
    "null_values_sum = scooter.isnull().sum()\n",
    "print(null_values_sum)\n"
   ]
  },
  {
   "cell_type": "markdown",
   "id": "c6181b3b",
   "metadata": {},
   "source": [
    "# Handling Data Issues"
   ]
  },
  {
   "cell_type": "code",
   "execution_count": 24,
   "id": "625c1ac6",
   "metadata": {},
   "outputs": [],
   "source": [
    "#drop region id column\n",
    "scooter.drop(columns = ['region_id'],inplace=True)"
   ]
  },
  {
   "cell_type": "code",
   "execution_count": 25,
   "id": "d68058a3",
   "metadata": {},
   "outputs": [
    {
     "name": "stdout",
     "output_type": "stream",
     "text": [
      "None\n"
     ]
    }
   ],
   "source": [
    "#fill na coulumns with value\n",
    "fill_duration_with_na = scooter.fillna(value='00:00:00',axis='columns',inplace=True)\n",
    "print(fill_duration_with_na)\n"
   ]
  },
  {
   "cell_type": "code",
   "execution_count": 26,
   "id": "a95d3bdf",
   "metadata": {},
   "outputs": [
    {
     "data": {
      "text/plain": [
       "0"
      ]
     },
     "execution_count": 26,
     "metadata": {},
     "output_type": "execute_result"
    }
   ],
   "source": [
    "null_scotter = scooter['DURATION'].isnull().sum()\n",
    "null_scotter\n"
   ]
  },
  {
   "cell_type": "code",
   "execution_count": 27,
   "id": "eb3cc13c",
   "metadata": {},
   "outputs": [
    {
     "data": {
      "text/plain": [
       "34226"
      ]
     },
     "execution_count": 27,
     "metadata": {},
     "output_type": "execute_result"
    }
   ],
   "source": [
    "non_null_value_count = scooter['DURATION'].value_counts().sum()\n",
    "non_null_value_count"
   ]
  },
  {
   "cell_type": "code",
   "execution_count": 28,
   "id": "2852adce",
   "metadata": {},
   "outputs": [
    {
     "name": "stdout",
     "output_type": "stream",
     "text": [
      "month                  0\n",
      "trip_id                0\n",
      "vehicle_id             0\n",
      "started_at             0\n",
      "ended_at               0\n",
      "DURATION               0\n",
      "start_location_name    0\n",
      "end_location_name      0\n",
      "user_id                0\n",
      "dtype: int64\n"
     ]
    }
   ],
   "source": [
    "\n",
    "#find null values in columns_sum \n",
    "null_values_sum = scooter.isnull().sum()\n",
    "print(null_values_sum)\n"
   ]
  },
  {
   "cell_type": "code",
   "execution_count": 29,
   "id": "8ee45055",
   "metadata": {},
   "outputs": [
    {
     "name": "stdout",
     "output_type": "stream",
     "text": [
      "None\n"
     ]
    }
   ],
   "source": [
    "#drop rows for the month of may\n",
    "may=scooter[(scooter['month']=='May')]\n",
    "drop_may_data = scooter.drop(index=may.index,inplace=True)\n",
    "print(drop_may_data)\n"
   ]
  },
  {
   "cell_type": "code",
   "execution_count": 30,
   "id": "5db4da28",
   "metadata": {},
   "outputs": [
    {
     "data": {
      "text/plain": [
       "array(['June', 'July'], dtype=object)"
      ]
     },
     "execution_count": 30,
     "metadata": {},
     "output_type": "execute_result"
    }
   ],
   "source": [
    "scooter['month'].unique()"
   ]
  },
  {
   "cell_type": "code",
   "execution_count": 31,
   "id": "bff91ff0",
   "metadata": {},
   "outputs": [
    {
     "data": {
      "text/html": [
       "<div>\n",
       "<style scoped>\n",
       "    .dataframe tbody tr th:only-of-type {\n",
       "        vertical-align: middle;\n",
       "    }\n",
       "\n",
       "    .dataframe tbody tr th {\n",
       "        vertical-align: top;\n",
       "    }\n",
       "\n",
       "    .dataframe thead th {\n",
       "        text-align: right;\n",
       "    }\n",
       "</style>\n",
       "<table border=\"1\" class=\"dataframe\">\n",
       "  <thead>\n",
       "    <tr style=\"text-align: right;\">\n",
       "      <th></th>\n",
       "      <th>month</th>\n",
       "      <th>trip_id</th>\n",
       "      <th>vehicle_id</th>\n",
       "      <th>started_at</th>\n",
       "      <th>ended_at</th>\n",
       "      <th>duration</th>\n",
       "      <th>start_location_name</th>\n",
       "      <th>end_location_name</th>\n",
       "      <th>user_id</th>\n",
       "    </tr>\n",
       "  </thead>\n",
       "  <tbody>\n",
       "    <tr>\n",
       "      <th>4225</th>\n",
       "      <td>June</td>\n",
       "      <td>1737416</td>\n",
       "      <td>8783919</td>\n",
       "      <td>6/1/2019 0:00</td>\n",
       "      <td>6/1/2019 0:01</td>\n",
       "      <td>0:01:10</td>\n",
       "      <td>524 Central Ave SW, Albuquerque, NM 87102, USA</td>\n",
       "      <td>524 Central Ave SW, Albuquerque, NM 87102, USA</td>\n",
       "      <td>37503537</td>\n",
       "    </tr>\n",
       "    <tr>\n",
       "      <th>4226</th>\n",
       "      <td>June</td>\n",
       "      <td>1737432</td>\n",
       "      <td>8926493</td>\n",
       "      <td>6/1/2019 0:01</td>\n",
       "      <td>6/1/2019 0:21</td>\n",
       "      <td>0:20:14</td>\n",
       "      <td>1898 Mountain Rd NW, Albuquerque, NM 87104, USA</td>\n",
       "      <td>Tiguex Park, 1800 Mountain Rd NW, Albuquerque,...</td>\n",
       "      <td>37504780</td>\n",
       "    </tr>\n",
       "    <tr>\n",
       "      <th>4227</th>\n",
       "      <td>June</td>\n",
       "      <td>1737434</td>\n",
       "      <td>5323295</td>\n",
       "      <td>6/1/2019 0:01</td>\n",
       "      <td>6/1/2019 0:13</td>\n",
       "      <td>0:12:39</td>\n",
       "      <td>2956 Central Ave SE, Albuquerque, NM 87106, USA</td>\n",
       "      <td>2921 Monte Vista Blvd NE, Albuquerque, NM 8710...</td>\n",
       "      <td>36414734</td>\n",
       "    </tr>\n",
       "    <tr>\n",
       "      <th>4228</th>\n",
       "      <td>June</td>\n",
       "      <td>1737455</td>\n",
       "      <td>8483100</td>\n",
       "      <td>6/1/2019 0:02</td>\n",
       "      <td>6/1/2019 0:03</td>\n",
       "      <td>0:01:01</td>\n",
       "      <td>524 Central Ave SW, Albuquerque, NM 87102, USA</td>\n",
       "      <td>524 Central Ave SW, Albuquerque, NM 87102, USA</td>\n",
       "      <td>37503537</td>\n",
       "    </tr>\n",
       "    <tr>\n",
       "      <th>4229</th>\n",
       "      <td>June</td>\n",
       "      <td>1737531</td>\n",
       "      <td>8310449</td>\n",
       "      <td>6/1/2019 0:05</td>\n",
       "      <td>6/1/2019 0:28</td>\n",
       "      <td>0:22:50</td>\n",
       "      <td>2002 Central Ave SW, Albuquerque, NM 87104, USA</td>\n",
       "      <td>401 2nd St NW, Albuquerque, NM 87102, USA</td>\n",
       "      <td>37182094</td>\n",
       "    </tr>\n",
       "    <tr>\n",
       "      <th>...</th>\n",
       "      <td>...</td>\n",
       "      <td>...</td>\n",
       "      <td>...</td>\n",
       "      <td>...</td>\n",
       "      <td>...</td>\n",
       "      <td>...</td>\n",
       "      <td>...</td>\n",
       "      <td>...</td>\n",
       "      <td>...</td>\n",
       "    </tr>\n",
       "    <tr>\n",
       "      <th>34221</th>\n",
       "      <td>July</td>\n",
       "      <td>2482235</td>\n",
       "      <td>2893981</td>\n",
       "      <td>7/21/2019 23:51</td>\n",
       "      <td>7/22/2019 0:05</td>\n",
       "      <td>0:14:00</td>\n",
       "      <td>Central @ Broadway, Albuquerque, NM 87102, USA</td>\n",
       "      <td>1418 4th St NW, Albuquerque, NM 87102, USA</td>\n",
       "      <td>42559731</td>\n",
       "    </tr>\n",
       "    <tr>\n",
       "      <th>34222</th>\n",
       "      <td>July</td>\n",
       "      <td>2482254</td>\n",
       "      <td>8201542</td>\n",
       "      <td>7/21/2019 23:52</td>\n",
       "      <td>7/22/2019 0:00</td>\n",
       "      <td>0:08:00</td>\n",
       "      <td>224 Central Ave SW, Albuquerque, NM 87102, USA</td>\n",
       "      <td>302 San Felipe St NW, Albuquerque, NM 87104, USA</td>\n",
       "      <td>42457674</td>\n",
       "    </tr>\n",
       "    <tr>\n",
       "      <th>34223</th>\n",
       "      <td>July</td>\n",
       "      <td>2482257</td>\n",
       "      <td>5136810</td>\n",
       "      <td>7/21/2019 23:52</td>\n",
       "      <td>7/22/2019 1:45</td>\n",
       "      <td>1:53:00</td>\n",
       "      <td>105 Stanford Dr SE, Albuquerque, NM 87106, USA</td>\n",
       "      <td>3339 Central Ave NE, Albuquerque, NM 87106, USA</td>\n",
       "      <td>42576631</td>\n",
       "    </tr>\n",
       "    <tr>\n",
       "      <th>34224</th>\n",
       "      <td>July</td>\n",
       "      <td>2482275</td>\n",
       "      <td>3125962</td>\n",
       "      <td>7/21/2019 23:53</td>\n",
       "      <td>7/22/2019 0:05</td>\n",
       "      <td>0:12:00</td>\n",
       "      <td>100 Broadway Blvd SE, Albuquerque, NM 87102, USA</td>\n",
       "      <td>1413 4th St SW, Albuquerque, NM 87102, USA</td>\n",
       "      <td>42575656</td>\n",
       "    </tr>\n",
       "    <tr>\n",
       "      <th>34225</th>\n",
       "      <td>July</td>\n",
       "      <td>2482335</td>\n",
       "      <td>9449822</td>\n",
       "      <td>7/21/2019 23:55</td>\n",
       "      <td>7/22/2019 1:46</td>\n",
       "      <td>1:51:00</td>\n",
       "      <td>105 Stanford Dr SE, Albuquerque, NM 87106, USA</td>\n",
       "      <td>3339 Central Ave NE, Albuquerque, NM 87106, USA</td>\n",
       "      <td>42586810</td>\n",
       "    </tr>\n",
       "  </tbody>\n",
       "</table>\n",
       "<p>30001 rows × 9 columns</p>\n",
       "</div>"
      ],
      "text/plain": [
       "      month  trip_id vehicle_id       started_at        ended_at duration  \\\n",
       "4225   June  1737416    8783919    6/1/2019 0:00   6/1/2019 0:01  0:01:10   \n",
       "4226   June  1737432    8926493    6/1/2019 0:01   6/1/2019 0:21  0:20:14   \n",
       "4227   June  1737434    5323295    6/1/2019 0:01   6/1/2019 0:13  0:12:39   \n",
       "4228   June  1737455    8483100    6/1/2019 0:02   6/1/2019 0:03  0:01:01   \n",
       "4229   June  1737531    8310449    6/1/2019 0:05   6/1/2019 0:28  0:22:50   \n",
       "...     ...      ...        ...              ...             ...      ...   \n",
       "34221  July  2482235    2893981  7/21/2019 23:51  7/22/2019 0:05  0:14:00   \n",
       "34222  July  2482254    8201542  7/21/2019 23:52  7/22/2019 0:00  0:08:00   \n",
       "34223  July  2482257    5136810  7/21/2019 23:52  7/22/2019 1:45  1:53:00   \n",
       "34224  July  2482275    3125962  7/21/2019 23:53  7/22/2019 0:05  0:12:00   \n",
       "34225  July  2482335    9449822  7/21/2019 23:55  7/22/2019 1:46  1:51:00   \n",
       "\n",
       "                                    start_location_name  \\\n",
       "4225     524 Central Ave SW, Albuquerque, NM 87102, USA   \n",
       "4226    1898 Mountain Rd NW, Albuquerque, NM 87104, USA   \n",
       "4227    2956 Central Ave SE, Albuquerque, NM 87106, USA   \n",
       "4228     524 Central Ave SW, Albuquerque, NM 87102, USA   \n",
       "4229    2002 Central Ave SW, Albuquerque, NM 87104, USA   \n",
       "...                                                 ...   \n",
       "34221    Central @ Broadway, Albuquerque, NM 87102, USA   \n",
       "34222    224 Central Ave SW, Albuquerque, NM 87102, USA   \n",
       "34223    105 Stanford Dr SE, Albuquerque, NM 87106, USA   \n",
       "34224  100 Broadway Blvd SE, Albuquerque, NM 87102, USA   \n",
       "34225    105 Stanford Dr SE, Albuquerque, NM 87106, USA   \n",
       "\n",
       "                                       end_location_name   user_id  \n",
       "4225      524 Central Ave SW, Albuquerque, NM 87102, USA  37503537  \n",
       "4226   Tiguex Park, 1800 Mountain Rd NW, Albuquerque,...  37504780  \n",
       "4227   2921 Monte Vista Blvd NE, Albuquerque, NM 8710...  36414734  \n",
       "4228      524 Central Ave SW, Albuquerque, NM 87102, USA  37503537  \n",
       "4229           401 2nd St NW, Albuquerque, NM 87102, USA  37182094  \n",
       "...                                                  ...       ...  \n",
       "34221         1418 4th St NW, Albuquerque, NM 87102, USA  42559731  \n",
       "34222   302 San Felipe St NW, Albuquerque, NM 87104, USA  42457674  \n",
       "34223    3339 Central Ave NE, Albuquerque, NM 87106, USA  42576631  \n",
       "34224         1413 4th St SW, Albuquerque, NM 87102, USA  42575656  \n",
       "34225    3339 Central Ave NE, Albuquerque, NM 87106, USA  42586810  \n",
       "\n",
       "[30001 rows x 9 columns]"
      ]
     },
     "execution_count": 31,
     "metadata": {},
     "output_type": "execute_result"
    }
   ],
   "source": [
    "scooter.rename(columns = {'DURATION':'duration'})"
   ]
  },
  {
   "cell_type": "code",
   "execution_count": 32,
   "id": "e208057d",
   "metadata": {},
   "outputs": [
    {
     "data": {
      "text/html": [
       "<div>\n",
       "<style scoped>\n",
       "    .dataframe tbody tr th:only-of-type {\n",
       "        vertical-align: middle;\n",
       "    }\n",
       "\n",
       "    .dataframe tbody tr th {\n",
       "        vertical-align: top;\n",
       "    }\n",
       "\n",
       "    .dataframe thead th {\n",
       "        text-align: right;\n",
       "    }\n",
       "</style>\n",
       "<table border=\"1\" class=\"dataframe\">\n",
       "  <thead>\n",
       "    <tr style=\"text-align: right;\">\n",
       "      <th></th>\n",
       "      <th>month</th>\n",
       "      <th>trip_id</th>\n",
       "      <th>vehicle_id</th>\n",
       "      <th>started_at</th>\n",
       "      <th>ended_at</th>\n",
       "      <th>DURATION</th>\n",
       "      <th>start_location_name</th>\n",
       "      <th>end_location_name</th>\n",
       "      <th>user_id</th>\n",
       "    </tr>\n",
       "  </thead>\n",
       "  <tbody>\n",
       "    <tr>\n",
       "      <th>4225</th>\n",
       "      <td>June</td>\n",
       "      <td>1737416</td>\n",
       "      <td>8783919</td>\n",
       "      <td>6/1/2019 0:00</td>\n",
       "      <td>6/1/2019 0:01</td>\n",
       "      <td>0:01:10</td>\n",
       "      <td>524 Central Ave SW, Albuquerque, NM 87102, USA</td>\n",
       "      <td>524 Central Ave SW, Albuquerque, NM 87102, USA</td>\n",
       "      <td>37503537</td>\n",
       "    </tr>\n",
       "    <tr>\n",
       "      <th>4226</th>\n",
       "      <td>June</td>\n",
       "      <td>1737432</td>\n",
       "      <td>8926493</td>\n",
       "      <td>6/1/2019 0:01</td>\n",
       "      <td>6/1/2019 0:21</td>\n",
       "      <td>0:20:14</td>\n",
       "      <td>1898 Mountain Rd NW, Albuquerque, NM 87104, USA</td>\n",
       "      <td>Tiguex Park, 1800 Mountain Rd NW, Albuquerque,...</td>\n",
       "      <td>37504780</td>\n",
       "    </tr>\n",
       "    <tr>\n",
       "      <th>4227</th>\n",
       "      <td>June</td>\n",
       "      <td>1737434</td>\n",
       "      <td>5323295</td>\n",
       "      <td>6/1/2019 0:01</td>\n",
       "      <td>6/1/2019 0:13</td>\n",
       "      <td>0:12:39</td>\n",
       "      <td>2956 Central Ave SE, Albuquerque, NM 87106, USA</td>\n",
       "      <td>2921 Monte Vista Blvd NE, Albuquerque, NM 8710...</td>\n",
       "      <td>36414734</td>\n",
       "    </tr>\n",
       "    <tr>\n",
       "      <th>4228</th>\n",
       "      <td>June</td>\n",
       "      <td>1737455</td>\n",
       "      <td>8483100</td>\n",
       "      <td>6/1/2019 0:02</td>\n",
       "      <td>6/1/2019 0:03</td>\n",
       "      <td>0:01:01</td>\n",
       "      <td>524 Central Ave SW, Albuquerque, NM 87102, USA</td>\n",
       "      <td>524 Central Ave SW, Albuquerque, NM 87102, USA</td>\n",
       "      <td>37503537</td>\n",
       "    </tr>\n",
       "    <tr>\n",
       "      <th>4229</th>\n",
       "      <td>June</td>\n",
       "      <td>1737531</td>\n",
       "      <td>8310449</td>\n",
       "      <td>6/1/2019 0:05</td>\n",
       "      <td>6/1/2019 0:28</td>\n",
       "      <td>0:22:50</td>\n",
       "      <td>2002 Central Ave SW, Albuquerque, NM 87104, USA</td>\n",
       "      <td>401 2nd St NW, Albuquerque, NM 87102, USA</td>\n",
       "      <td>37182094</td>\n",
       "    </tr>\n",
       "  </tbody>\n",
       "</table>\n",
       "</div>"
      ],
      "text/plain": [
       "     month  trip_id vehicle_id     started_at       ended_at DURATION  \\\n",
       "4225  June  1737416    8783919  6/1/2019 0:00  6/1/2019 0:01  0:01:10   \n",
       "4226  June  1737432    8926493  6/1/2019 0:01  6/1/2019 0:21  0:20:14   \n",
       "4227  June  1737434    5323295  6/1/2019 0:01  6/1/2019 0:13  0:12:39   \n",
       "4228  June  1737455    8483100  6/1/2019 0:02  6/1/2019 0:03  0:01:01   \n",
       "4229  June  1737531    8310449  6/1/2019 0:05  6/1/2019 0:28  0:22:50   \n",
       "\n",
       "                                  start_location_name  \\\n",
       "4225   524 Central Ave SW, Albuquerque, NM 87102, USA   \n",
       "4226  1898 Mountain Rd NW, Albuquerque, NM 87104, USA   \n",
       "4227  2956 Central Ave SE, Albuquerque, NM 87106, USA   \n",
       "4228   524 Central Ave SW, Albuquerque, NM 87102, USA   \n",
       "4229  2002 Central Ave SW, Albuquerque, NM 87104, USA   \n",
       "\n",
       "                                      end_location_name   user_id  \n",
       "4225     524 Central Ave SW, Albuquerque, NM 87102, USA  37503537  \n",
       "4226  Tiguex Park, 1800 Mountain Rd NW, Albuquerque,...  37504780  \n",
       "4227  2921 Monte Vista Blvd NE, Albuquerque, NM 8710...  36414734  \n",
       "4228     524 Central Ave SW, Albuquerque, NM 87102, USA  37503537  \n",
       "4229          401 2nd St NW, Albuquerque, NM 87102, USA  37182094  "
      ]
     },
     "execution_count": 32,
     "metadata": {},
     "output_type": "execute_result"
    }
   ],
   "source": [
    "scooter.head(5)"
   ]
  },
  {
   "cell_type": "code",
   "execution_count": 33,
   "id": "206428a8",
   "metadata": {},
   "outputs": [],
   "source": [
    "scooter.columns = ['month','trip_id','vehicle_id','started_at','ended_at','duration','start_location_name','end_location_name','user_id']"
   ]
  },
  {
   "cell_type": "code",
   "execution_count": 34,
   "id": "df8f7610",
   "metadata": {},
   "outputs": [
    {
     "data": {
      "text/plain": [
       "Index(['month', 'trip_id', 'vehicle_id', 'started_at', 'ended_at', 'duration',\n",
       "       'start_location_name', 'end_location_name', 'user_id'],\n",
       "      dtype='object')"
      ]
     },
     "execution_count": 34,
     "metadata": {},
     "output_type": "execute_result"
    }
   ],
   "source": [
    "scooter.columns"
   ]
  },
  {
   "cell_type": "code",
   "execution_count": 35,
   "id": "a65f7e3b",
   "metadata": {},
   "outputs": [
    {
     "data": {
      "text/html": [
       "<div>\n",
       "<style scoped>\n",
       "    .dataframe tbody tr th:only-of-type {\n",
       "        vertical-align: middle;\n",
       "    }\n",
       "\n",
       "    .dataframe tbody tr th {\n",
       "        vertical-align: top;\n",
       "    }\n",
       "\n",
       "    .dataframe thead th {\n",
       "        text-align: right;\n",
       "    }\n",
       "</style>\n",
       "<table border=\"1\" class=\"dataframe\">\n",
       "  <thead>\n",
       "    <tr style=\"text-align: right;\">\n",
       "      <th></th>\n",
       "      <th>month</th>\n",
       "      <th>trip_id</th>\n",
       "      <th>vehicle_id</th>\n",
       "      <th>started_at</th>\n",
       "      <th>ended_at</th>\n",
       "      <th>duration</th>\n",
       "      <th>start_location_name</th>\n",
       "      <th>end_location_name</th>\n",
       "      <th>user_id</th>\n",
       "    </tr>\n",
       "  </thead>\n",
       "  <tbody>\n",
       "    <tr>\n",
       "      <th>4225</th>\n",
       "      <td>June</td>\n",
       "      <td>1737416</td>\n",
       "      <td>8783919</td>\n",
       "      <td>6/1/2019 0:00</td>\n",
       "      <td>6/1/2019 0:01</td>\n",
       "      <td>0:01:10</td>\n",
       "      <td>524 Central Ave SW, Albuquerque, NM 87102, USA</td>\n",
       "      <td>524 Central Ave SW, Albuquerque, NM 87102, USA</td>\n",
       "      <td>37503537</td>\n",
       "    </tr>\n",
       "    <tr>\n",
       "      <th>4226</th>\n",
       "      <td>June</td>\n",
       "      <td>1737432</td>\n",
       "      <td>8926493</td>\n",
       "      <td>6/1/2019 0:01</td>\n",
       "      <td>6/1/2019 0:21</td>\n",
       "      <td>0:20:14</td>\n",
       "      <td>1898 Mountain Rd NW, Albuquerque, NM 87104, USA</td>\n",
       "      <td>Tiguex Park, 1800 Mountain Rd NW, Albuquerque,...</td>\n",
       "      <td>37504780</td>\n",
       "    </tr>\n",
       "    <tr>\n",
       "      <th>4227</th>\n",
       "      <td>June</td>\n",
       "      <td>1737434</td>\n",
       "      <td>5323295</td>\n",
       "      <td>6/1/2019 0:01</td>\n",
       "      <td>6/1/2019 0:13</td>\n",
       "      <td>0:12:39</td>\n",
       "      <td>2956 Central Ave SE, Albuquerque, NM 87106, USA</td>\n",
       "      <td>2921 Monte Vista Blvd NE, Albuquerque, NM 8710...</td>\n",
       "      <td>36414734</td>\n",
       "    </tr>\n",
       "    <tr>\n",
       "      <th>4228</th>\n",
       "      <td>June</td>\n",
       "      <td>1737455</td>\n",
       "      <td>8483100</td>\n",
       "      <td>6/1/2019 0:02</td>\n",
       "      <td>6/1/2019 0:03</td>\n",
       "      <td>0:01:01</td>\n",
       "      <td>524 Central Ave SW, Albuquerque, NM 87102, USA</td>\n",
       "      <td>524 Central Ave SW, Albuquerque, NM 87102, USA</td>\n",
       "      <td>37503537</td>\n",
       "    </tr>\n",
       "    <tr>\n",
       "      <th>4229</th>\n",
       "      <td>June</td>\n",
       "      <td>1737531</td>\n",
       "      <td>8310449</td>\n",
       "      <td>6/1/2019 0:05</td>\n",
       "      <td>6/1/2019 0:28</td>\n",
       "      <td>0:22:50</td>\n",
       "      <td>2002 Central Ave SW, Albuquerque, NM 87104, USA</td>\n",
       "      <td>401 2nd St NW, Albuquerque, NM 87102, USA</td>\n",
       "      <td>37182094</td>\n",
       "    </tr>\n",
       "  </tbody>\n",
       "</table>\n",
       "</div>"
      ],
      "text/plain": [
       "     month  trip_id vehicle_id     started_at       ended_at duration  \\\n",
       "4225  June  1737416    8783919  6/1/2019 0:00  6/1/2019 0:01  0:01:10   \n",
       "4226  June  1737432    8926493  6/1/2019 0:01  6/1/2019 0:21  0:20:14   \n",
       "4227  June  1737434    5323295  6/1/2019 0:01  6/1/2019 0:13  0:12:39   \n",
       "4228  June  1737455    8483100  6/1/2019 0:02  6/1/2019 0:03  0:01:01   \n",
       "4229  June  1737531    8310449  6/1/2019 0:05  6/1/2019 0:28  0:22:50   \n",
       "\n",
       "                                  start_location_name  \\\n",
       "4225   524 Central Ave SW, Albuquerque, NM 87102, USA   \n",
       "4226  1898 Mountain Rd NW, Albuquerque, NM 87104, USA   \n",
       "4227  2956 Central Ave SE, Albuquerque, NM 87106, USA   \n",
       "4228   524 Central Ave SW, Albuquerque, NM 87102, USA   \n",
       "4229  2002 Central Ave SW, Albuquerque, NM 87104, USA   \n",
       "\n",
       "                                      end_location_name   user_id  \n",
       "4225     524 Central Ave SW, Albuquerque, NM 87102, USA  37503537  \n",
       "4226  Tiguex Park, 1800 Mountain Rd NW, Albuquerque,...  37504780  \n",
       "4227  2921 Monte Vista Blvd NE, Albuquerque, NM 8710...  36414734  \n",
       "4228     524 Central Ave SW, Albuquerque, NM 87102, USA  37503537  \n",
       "4229          401 2nd St NW, Albuquerque, NM 87102, USA  37182094  "
      ]
     },
     "execution_count": 35,
     "metadata": {},
     "output_type": "execute_result"
    }
   ],
   "source": [
    "scooter.head(5)"
   ]
  },
  {
   "cell_type": "code",
   "execution_count": 36,
   "id": "1553a0a3",
   "metadata": {},
   "outputs": [
    {
     "data": {
      "text/html": [
       "<div>\n",
       "<style scoped>\n",
       "    .dataframe tbody tr th:only-of-type {\n",
       "        vertical-align: middle;\n",
       "    }\n",
       "\n",
       "    .dataframe tbody tr th {\n",
       "        vertical-align: top;\n",
       "    }\n",
       "\n",
       "    .dataframe thead th {\n",
       "        text-align: right;\n",
       "    }\n",
       "</style>\n",
       "<table border=\"1\" class=\"dataframe\">\n",
       "  <thead>\n",
       "    <tr style=\"text-align: right;\">\n",
       "      <th></th>\n",
       "      <th>0</th>\n",
       "      <th>1</th>\n",
       "    </tr>\n",
       "  </thead>\n",
       "  <tbody>\n",
       "    <tr>\n",
       "      <th>4225</th>\n",
       "      <td>6/1/2019</td>\n",
       "      <td>0:00</td>\n",
       "    </tr>\n",
       "    <tr>\n",
       "      <th>4226</th>\n",
       "      <td>6/1/2019</td>\n",
       "      <td>0:01</td>\n",
       "    </tr>\n",
       "  </tbody>\n",
       "</table>\n",
       "</div>"
      ],
      "text/plain": [
       "             0     1\n",
       "4225  6/1/2019  0:00\n",
       "4226  6/1/2019  0:01"
      ]
     },
     "execution_count": 36,
     "metadata": {},
     "output_type": "execute_result"
    }
   ],
   "source": [
    "split_started_at = scooter['started_at'].str.split(expand=True)\n",
    "split_started_at.head(2)"
   ]
  },
  {
   "cell_type": "code",
   "execution_count": 37,
   "id": "949466c9",
   "metadata": {},
   "outputs": [
    {
     "name": "stdout",
     "output_type": "stream",
     "text": [
      "     month  trip_id vehicle_id     started_at       ended_at duration  \\\n",
      "4225  June  1737416    8783919  6/1/2019 0:00  6/1/2019 0:01  0:01:10   \n",
      "4226  June  1737432    8926493  6/1/2019 0:01  6/1/2019 0:21  0:20:14   \n",
      "\n",
      "                                  start_location_name  \\\n",
      "4225   524 Central Ave SW, Albuquerque, NM 87102, USA   \n",
      "4226  1898 Mountain Rd NW, Albuquerque, NM 87104, USA   \n",
      "\n",
      "                                      end_location_name   user_id  \n",
      "4225     524 Central Ave SW, Albuquerque, NM 87102, USA  37503537  \n",
      "4226  Tiguex Park, 1800 Mountain Rd NW, Albuquerque,...  37504780  \n"
     ]
    }
   ],
   "source": [
    "when = '2019-05-23'\n",
    "x=scooter[(scooter['started_at']>when)]\n",
    "print(x.head(2))"
   ]
  },
  {
   "cell_type": "markdown",
   "id": "4b17b09d",
   "metadata": {},
   "source": [
    "# Enriching Data"
   ]
  },
  {
   "cell_type": "code",
   "execution_count": 38,
   "id": "dbe979ac",
   "metadata": {},
   "outputs": [
    {
     "data": {
      "text/html": [
       "<div>\n",
       "<style scoped>\n",
       "    .dataframe tbody tr th:only-of-type {\n",
       "        vertical-align: middle;\n",
       "    }\n",
       "\n",
       "    .dataframe tbody tr th {\n",
       "        vertical-align: top;\n",
       "    }\n",
       "\n",
       "    .dataframe thead th {\n",
       "        text-align: right;\n",
       "    }\n",
       "</style>\n",
       "<table border=\"1\" class=\"dataframe\">\n",
       "  <thead>\n",
       "    <tr style=\"text-align: right;\">\n",
       "      <th></th>\n",
       "      <th>address</th>\n",
       "      <th>count</th>\n",
       "    </tr>\n",
       "  </thead>\n",
       "  <tbody>\n",
       "    <tr>\n",
       "      <th>0</th>\n",
       "      <td>1898 Mountain Rd NW, Albuquerque, NM 87104, USA</td>\n",
       "      <td>1023</td>\n",
       "    </tr>\n",
       "    <tr>\n",
       "      <th>1</th>\n",
       "      <td>Central @ Tingley, Albuquerque, NM 87104, USA</td>\n",
       "      <td>806</td>\n",
       "    </tr>\n",
       "    <tr>\n",
       "      <th>2</th>\n",
       "      <td>2550 Central Ave NE, Albuquerque, NM 87106, USA</td>\n",
       "      <td>690</td>\n",
       "    </tr>\n",
       "    <tr>\n",
       "      <th>3</th>\n",
       "      <td>2901 Central Ave NE, Albuquerque, NM 87106, USA</td>\n",
       "      <td>605</td>\n",
       "    </tr>\n",
       "    <tr>\n",
       "      <th>4</th>\n",
       "      <td>201 Marquette Ave NW, Albuquerque, NM 87102, USA</td>\n",
       "      <td>550</td>\n",
       "    </tr>\n",
       "  </tbody>\n",
       "</table>\n",
       "</div>"
      ],
      "text/plain": [
       "                                            address  count\n",
       "0   1898 Mountain Rd NW, Albuquerque, NM 87104, USA   1023\n",
       "1     Central @ Tingley, Albuquerque, NM 87104, USA    806\n",
       "2   2550 Central Ave NE, Albuquerque, NM 87106, USA    690\n",
       "3   2901 Central Ave NE, Albuquerque, NM 87106, USA    605\n",
       "4  201 Marquette Ave NW, Albuquerque, NM 87102, USA    550"
      ]
     },
     "execution_count": 38,
     "metadata": {},
     "output_type": "execute_result"
    }
   ],
   "source": [
    "new=pd.DataFrame(scooter['start_location_name'].value_counts().\n",
    "head())\n",
    "new.reset_index(inplace=True)\n",
    "new.columns=['address','count']\n",
    "new"
   ]
  },
  {
   "cell_type": "code",
   "execution_count": 39,
   "id": "e24a501b",
   "metadata": {},
   "outputs": [
    {
     "data": {
      "text/html": [
       "<div>\n",
       "<style scoped>\n",
       "    .dataframe tbody tr th:only-of-type {\n",
       "        vertical-align: middle;\n",
       "    }\n",
       "\n",
       "    .dataframe tbody tr th {\n",
       "        vertical-align: top;\n",
       "    }\n",
       "\n",
       "    .dataframe thead th {\n",
       "        text-align: right;\n",
       "    }\n",
       "</style>\n",
       "<table border=\"1\" class=\"dataframe\">\n",
       "  <thead>\n",
       "    <tr style=\"text-align: right;\">\n",
       "      <th></th>\n",
       "      <th>address</th>\n",
       "      <th>count</th>\n",
       "      <th>street</th>\n",
       "    </tr>\n",
       "  </thead>\n",
       "  <tbody>\n",
       "    <tr>\n",
       "      <th>0</th>\n",
       "      <td>1898 Mountain Rd NW, Albuquerque, NM 87104, USA</td>\n",
       "      <td>1023</td>\n",
       "      <td>1898 Mountain Rd NW</td>\n",
       "    </tr>\n",
       "    <tr>\n",
       "      <th>1</th>\n",
       "      <td>Central @ Tingley, Albuquerque, NM 87104, USA</td>\n",
       "      <td>806</td>\n",
       "      <td>Central and Tingley</td>\n",
       "    </tr>\n",
       "    <tr>\n",
       "      <th>2</th>\n",
       "      <td>2550 Central Ave NE, Albuquerque, NM 87106, USA</td>\n",
       "      <td>690</td>\n",
       "      <td>2550 Central Ave NE</td>\n",
       "    </tr>\n",
       "    <tr>\n",
       "      <th>3</th>\n",
       "      <td>2901 Central Ave NE, Albuquerque, NM 87106, USA</td>\n",
       "      <td>605</td>\n",
       "      <td>2901 Central Ave NE</td>\n",
       "    </tr>\n",
       "    <tr>\n",
       "      <th>4</th>\n",
       "      <td>201 Marquette Ave NW, Albuquerque, NM 87102, USA</td>\n",
       "      <td>550</td>\n",
       "      <td>201 Marquette Ave NW</td>\n",
       "    </tr>\n",
       "  </tbody>\n",
       "</table>\n",
       "</div>"
      ],
      "text/plain": [
       "                                            address  count  \\\n",
       "0   1898 Mountain Rd NW, Albuquerque, NM 87104, USA   1023   \n",
       "1     Central @ Tingley, Albuquerque, NM 87104, USA    806   \n",
       "2   2550 Central Ave NE, Albuquerque, NM 87106, USA    690   \n",
       "3   2901 Central Ave NE, Albuquerque, NM 87106, USA    605   \n",
       "4  201 Marquette Ave NW, Albuquerque, NM 87102, USA    550   \n",
       "\n",
       "                 street  \n",
       "0   1898 Mountain Rd NW  \n",
       "1   Central and Tingley  \n",
       "2   2550 Central Ave NE  \n",
       "3   2901 Central Ave NE  \n",
       "4  201 Marquette Ave NW  "
      ]
     },
     "execution_count": 39,
     "metadata": {},
     "output_type": "execute_result"
    }
   ],
   "source": [
    "n=new['address'].str.split(pat=',',n=1,expand=True)\n",
    "replaced=n[0].str.replace(\"@\",\"and\")\n",
    "#new['street']=n[0]\n",
    "new['street']=replaced\n",
    "new"
   ]
  },
  {
   "cell_type": "code",
   "execution_count": null,
   "id": "2f557056",
   "metadata": {},
   "outputs": [],
   "source": []
  }
 ],
 "metadata": {
  "kernelspec": {
   "display_name": "Python 3 (ipykernel)",
   "language": "python",
   "name": "python3"
  },
  "language_info": {
   "codemirror_mode": {
    "name": "ipython",
    "version": 3
   },
   "file_extension": ".py",
   "mimetype": "text/x-python",
   "name": "python",
   "nbconvert_exporter": "python",
   "pygments_lexer": "ipython3",
   "version": "3.11.5"
  }
 },
 "nbformat": 4,
 "nbformat_minor": 5
}
