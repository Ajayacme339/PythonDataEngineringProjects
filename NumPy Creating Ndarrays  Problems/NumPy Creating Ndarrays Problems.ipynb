{
 "cells": [
  {
   "cell_type": "code",
   "execution_count": 1,
   "id": "3cb96182",
   "metadata": {},
   "outputs": [
    {
     "name": "stdout",
     "output_type": "stream",
     "text": [
      "[[1. 1. 1. 1. 1.]\n",
      " [1. 1. 1. 1. 1.]\n",
      " [1. 1. 1. 1. 1.]\n",
      " [1. 1. 1. 1. 1.]\n",
      " [1. 1. 1. 1. 1.]\n",
      " [1. 1. 1. 1. 1.]\n",
      " [1. 1. 1. 1. 1.]]\n"
     ]
    }
   ],
   "source": [
    "import numpy as np\n",
    "x = np.ones([7,5])\n",
    "print(x)"
   ]
  },
  {
   "cell_type": "code",
   "execution_count": 2,
   "id": "41278999",
   "metadata": {},
   "outputs": [
    {
     "name": "stdout",
     "output_type": "stream",
     "text": [
      "[[0. 0. 0. 0. 0. 0.]\n",
      " [0. 0. 0. 0. 0. 0.]\n",
      " [0. 0. 0. 0. 0. 0.]\n",
      " [0. 0. 0. 0. 0. 0.]]\n"
     ]
    }
   ],
   "source": [
    "x = np.zeros([4,6])\n",
    "print(x)"
   ]
  },
  {
   "cell_type": "code",
   "execution_count": 3,
   "id": "42ea1409",
   "metadata": {},
   "outputs": [
    {
     "name": "stdout",
     "output_type": "stream",
     "text": [
      "[[1. 1. 1. 1. 1.]\n",
      " [1. 0. 0. 0. 1.]\n",
      " [1. 0. 0. 0. 1.]\n",
      " [1. 0. 0. 0. 1.]\n",
      " [1. 0. 0. 0. 1.]\n",
      " [1. 1. 1. 1. 1.]]\n"
     ]
    }
   ],
   "source": [
    "def framed_zeros(num_rows,num_cols):\n",
    "    x = np.ones((num_rows,num_cols))\n",
    "    x[1:-1,1:-1] = 0\n",
    "    return x \n",
    "   \n",
    "print(framed_zeros(6, 5))"
   ]
  },
  {
   "cell_type": "code",
   "execution_count": 4,
   "id": "db134b99",
   "metadata": {},
   "outputs": [
    {
     "name": "stdout",
     "output_type": "stream",
     "text": [
      "[[1. 0. 1. 0. 1.]\n",
      " [0. 1. 0. 1. 0.]\n",
      " [1. 0. 1. 0. 1.]\n",
      " [0. 1. 0. 1. 0.]\n",
      " [1. 0. 1. 0. 1.]]\n"
     ]
    }
   ],
   "source": [
    "\n",
    "def alternate_ones_zeros(num_rows,num_cols):\n",
    "    x = np.zeros((num_rows,num_cols))\n",
    "    x[::2, ::2] = 1\n",
    "    x[1::2, 1::2] = 1\n",
    "    return x\n",
    "    \n",
    "\n",
    "\n",
    "print(alternate_ones_zeros(5, 5))"
   ]
  },
  {
   "cell_type": "code",
   "execution_count": 5,
   "id": "66f4a468",
   "metadata": {},
   "outputs": [
    {
     "name": "stdout",
     "output_type": "stream",
     "text": [
      "[[0 1 1 0]\n",
      " [1 1 0 0]\n",
      " [1 1 0 0]]\n"
     ]
    }
   ],
   "source": [
    "def invert_binary(x):\n",
    "    return 1 - x\n",
    "\n",
    "\n",
    "x = np.array([[1, 0, 0, 1], [0, 0, 1, 1], [0, 0, 1, 1]])\n",
    "print(invert_binary(x))"
   ]
  },
  {
   "cell_type": "code",
   "execution_count": 6,
   "id": "3d9ce443",
   "metadata": {},
   "outputs": [
    {
     "name": "stdout",
     "output_type": "stream",
     "text": [
      "[[4 9 4 6]\n",
      " [3 6 3 9]\n",
      " [8 1 9 0]]\n"
     ]
    }
   ],
   "source": [
    "def merge_with_binary_mask(x, y, binary_mask):\n",
    "    return x * (1 - binary_mask) + y * binary_mask\n",
    "\n",
    "x = np.array([[4, 2, 3, 6], [7, 6, 8, 9], [8, 1, 4, 5]])\n",
    "y = np.array([[0, 9, 4, 1], [3, 5, 3, 2], [4, 7, 9, 0]])\n",
    "binary_mask = np.array([[0, 1, 1, 0], [1, 0, 1, 0], [0, 0, 1, 1]])\n",
    "print(merge_with_binary_mask(x, y, binary_mask))"
   ]
  },
  {
   "cell_type": "code",
   "execution_count": 8,
   "id": "f0a2b3b7",
   "metadata": {},
   "outputs": [
    {
     "name": "stdout",
     "output_type": "stream",
     "text": [
      "[  0   1   2   3   4   5   6   7   8   9  10  11  12  13  14  15  16  17\n",
      "  18  19  20  21  22  23  24  25  26  27  28  29  30  31  32  33  34  35\n",
      "  36  37  38  39  40  41  42  43  44  45  46  47  48  49  50  51  52  53\n",
      "  54  55  56  57  58  59  60  61  62  63  64  65  66  67  68  69  70  71\n",
      "  72  73  74  75  76  77  78  79  80  81  82  83  84  85  86  87  88  89\n",
      "  90  91  92  93  94  95  96  97  98  99 100]\n"
     ]
    }
   ],
   "source": [
    "int_0_to_100 = np.arange(0,101)\n",
    "print(int_0_to_100)"
   ]
  },
  {
   "cell_type": "code",
   "execution_count": 9,
   "id": "3febacfc",
   "metadata": {},
   "outputs": [
    {
     "name": "stdout",
     "output_type": "stream",
     "text": [
      "[   2    4    6    8   10   12   14   16   18   20   22   24   26   28\n",
      "   30   32   34   36   38   40   42   44   46   48   50   52   54   56\n",
      "   58   60   62   64   66   68   70   72   74   76   78   80   82   84\n",
      "   86   88   90   92   94   96   98  100  102  104  106  108  110  112\n",
      "  114  116  118  120  122  124  126  128  130  132  134  136  138  140\n",
      "  142  144  146  148  150  152  154  156  158  160  162  164  166  168\n",
      "  170  172  174  176  178  180  182  184  186  188  190  192  194  196\n",
      "  198  200  202  204  206  208  210  212  214  216  218  220  222  224\n",
      "  226  228  230  232  234  236  238  240  242  244  246  248  250  252\n",
      "  254  256  258  260  262  264  266  268  270  272  274  276  278  280\n",
      "  282  284  286  288  290  292  294  296  298  300  302  304  306  308\n",
      "  310  312  314  316  318  320  322  324  326  328  330  332  334  336\n",
      "  338  340  342  344  346  348  350  352  354  356  358  360  362  364\n",
      "  366  368  370  372  374  376  378  380  382  384  386  388  390  392\n",
      "  394  396  398  400  402  404  406  408  410  412  414  416  418  420\n",
      "  422  424  426  428  430  432  434  436  438  440  442  444  446  448\n",
      "  450  452  454  456  458  460  462  464  466  468  470  472  474  476\n",
      "  478  480  482  484  486  488  490  492  494  496  498  500  502  504\n",
      "  506  508  510  512  514  516  518  520  522  524  526  528  530  532\n",
      "  534  536  538  540  542  544  546  548  550  552  554  556  558  560\n",
      "  562  564  566  568  570  572  574  576  578  580  582  584  586  588\n",
      "  590  592  594  596  598  600  602  604  606  608  610  612  614  616\n",
      "  618  620  622  624  626  628  630  632  634  636  638  640  642  644\n",
      "  646  648  650  652  654  656  658  660  662  664  666  668  670  672\n",
      "  674  676  678  680  682  684  686  688  690  692  694  696  698  700\n",
      "  702  704  706  708  710  712  714  716  718  720  722  724  726  728\n",
      "  730  732  734  736  738  740  742  744  746  748  750  752  754  756\n",
      "  758  760  762  764  766  768  770  772  774  776  778  780  782  784\n",
      "  786  788  790  792  794  796  798  800  802  804  806  808  810  812\n",
      "  814  816  818  820  822  824  826  828  830  832  834  836  838  840\n",
      "  842  844  846  848  850  852  854  856  858  860  862  864  866  868\n",
      "  870  872  874  876  878  880  882  884  886  888  890  892  894  896\n",
      "  898  900  902  904  906  908  910  912  914  916  918  920  922  924\n",
      "  926  928  930  932  934  936  938  940  942  944  946  948  950  952\n",
      "  954  956  958  960  962  964  966  968  970  972  974  976  978  980\n",
      "  982  984  986  988  990  992  994  996  998 1000]\n"
     ]
    }
   ],
   "source": [
    "even_2_to_1000 = np.arange(2,1001,2)\n",
    "print(even_2_to_1000)"
   ]
  },
  {
   "cell_type": "code",
   "execution_count": 12,
   "id": "a9780c50",
   "metadata": {},
   "outputs": [
    {
     "name": "stdout",
     "output_type": "stream",
     "text": [
      "[[1 2 3]\n",
      " [4 5 6]\n",
      " [7 8 9]]\n",
      "[[ 1  2  3  4  5]\n",
      " [ 6  7  8  9 10]\n",
      " [11 12 13 14 15]\n",
      " [16 17 18 19 20]\n",
      " [21 22 23 24 25]]\n"
     ]
    }
   ],
   "source": [
    "def numbered_table(size):\n",
    "    return np.arange(1, size * size + 1).reshape((size, size))\n",
    "\n",
    "\n",
    "print(numbered_table(3))\n",
    "print(numbered_table(5))"
   ]
  },
  {
   "cell_type": "code",
   "execution_count": 13,
   "id": "cfa2dc6d",
   "metadata": {},
   "outputs": [
    {
     "name": "stdout",
     "output_type": "stream",
     "text": [
      "[[4 2 7 1]]\n"
     ]
    }
   ],
   "source": [
    "def dim1_to_dim2(x):\n",
    "    return x[np.newaxis,:]\n",
    "\n",
    "\n",
    "x = np.array([4, 2, 7, 1])\n",
    "print(dim1_to_dim2(x))"
   ]
  },
  {
   "cell_type": "code",
   "execution_count": 14,
   "id": "b5c767fb",
   "metadata": {},
   "outputs": [
    {
     "name": "stdout",
     "output_type": "stream",
     "text": [
      "[[4]\n",
      " [2]\n",
      " [7]\n",
      " [1]]\n"
     ]
    }
   ],
   "source": [
    "def row_to_col(x):\n",
    "    return x[:,np.newaxis]\n",
    "\n",
    "\n",
    "x = np.array([4, 2, 7, 1])\n",
    "print(row_to_col(x))"
   ]
  },
  {
   "cell_type": "code",
   "execution_count": 15,
   "id": "562a9bc1",
   "metadata": {},
   "outputs": [
    {
     "name": "stdout",
     "output_type": "stream",
     "text": [
      "[[5 5 5 5 5 5 5 5 5 5]\n",
      " [5 5 5 5 5 5 5 5 5 5]\n",
      " [5 5 5 5 5 5 5 5 5 5]\n",
      " [5 5 5 5 5 5 5 5 5 5]\n",
      " [5 5 5 5 5 5 5 5 5 5]\n",
      " [5 5 5 5 5 5 5 5 5 5]\n",
      " [5 5 5 5 5 5 5 5 5 5]\n",
      " [5 5 5 5 5 5 5 5 5 5]\n",
      " [5 5 5 5 5 5 5 5 5 5]\n",
      " [5 5 5 5 5 5 5 5 5 5]]\n"
     ]
    }
   ],
   "source": [
    "fives = np.full((10,10),5)\n",
    "print(fives)"
   ]
  },
  {
   "cell_type": "code",
   "execution_count": 16,
   "id": "962b4ad7",
   "metadata": {},
   "outputs": [
    {
     "name": "stdout",
     "output_type": "stream",
     "text": [
      "[[1. 1. 1. 1. 1. 2. 2. 2. 2. 2.]\n",
      " [1. 1. 1. 1. 1. 2. 2. 2. 2. 2.]\n",
      " [1. 1. 1. 1. 1. 2. 2. 2. 2. 2.]\n",
      " [1. 1. 1. 1. 1. 2. 2. 2. 2. 2.]\n",
      " [1. 1. 1. 1. 1. 2. 2. 2. 2. 2.]\n",
      " [3. 3. 3. 3. 3. 4. 4. 4. 4. 4.]\n",
      " [3. 3. 3. 3. 3. 4. 4. 4. 4. 4.]\n",
      " [3. 3. 3. 3. 3. 4. 4. 4. 4. 4.]\n",
      " [3. 3. 3. 3. 3. 4. 4. 4. 4. 4.]\n",
      " [3. 3. 3. 3. 3. 4. 4. 4. 4. 4.]]\n"
     ]
    }
   ],
   "source": [
    "x = np.ones((10, 10))\n",
    "x[0:5, 5:10] = 2\n",
    "x[5:10, 0:5] = 3\n",
    "x[5:10, 5:10] = 4\n",
    "print(x)"
   ]
  },
  {
   "cell_type": "code",
   "execution_count": 17,
   "id": "170ea88b",
   "metadata": {},
   "outputs": [
    {
     "name": "stdout",
     "output_type": "stream",
     "text": [
      "[[ 1  2  3  4  5  1  2  3  4  5]\n",
      " [ 6  7  8  9 10  6  7  8  9 10]\n",
      " [11 12 13 14 15 11 12 13 14 15]\n",
      " [16 17 18 19 20 16 17 18 19 20]\n",
      " [21 22 23 24 25 21 22 23 24 25]\n",
      " [ 1  2  3  4  5  1  2  3  4  5]\n",
      " [ 6  7  8  9 10  6  7  8  9 10]\n",
      " [11 12 13 14 15 11 12 13 14 15]\n",
      " [16 17 18 19 20 16 17 18 19 20]\n",
      " [21 22 23 24 25 21 22 23 24 25]]\n"
     ]
    }
   ],
   "source": [
    "corner = np.arange(1, 26).reshape(5, 5)\n",
    "x = np.tile(corner, (2, 2))\n",
    "print(x)"
   ]
  },
  {
   "cell_type": "code",
   "execution_count": null,
   "id": "b0d0f0a8",
   "metadata": {},
   "outputs": [],
   "source": []
  }
 ],
 "metadata": {
  "kernelspec": {
   "display_name": "Python 3 (ipykernel)",
   "language": "python",
   "name": "python3"
  },
  "language_info": {
   "codemirror_mode": {
    "name": "ipython",
    "version": 3
   },
   "file_extension": ".py",
   "mimetype": "text/x-python",
   "name": "python",
   "nbconvert_exporter": "python",
   "pygments_lexer": "ipython3",
   "version": "3.11.5"
  }
 },
 "nbformat": 4,
 "nbformat_minor": 5
}
