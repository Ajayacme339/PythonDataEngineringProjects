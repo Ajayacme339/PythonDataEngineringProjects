{
 "cells": [
  {
   "cell_type": "markdown",
   "id": "d88f1ef0",
   "metadata": {},
   "source": [
    "The Project is selecting Data in DataFrame using Pandas Library. Data set contains data from people csv file .The Data Dictionary Provided with data is as Follows:\n",
    "* Name - Name of Person \n",
    "* Age - Age of Person\n",
    "* Weight - Weight Of Person\n",
    "* Height - Height of Person\n",
    "* Gender - Gender of Person\n",
    "\n",
    "Data set can be found here:https://github.com/Ajayacme339/Datacode/blob/master/people%20(2).csv\n",
    "\n",
    "\n",
    "\n",
    "\n"
   ]
  },
  {
   "cell_type": "code",
   "execution_count": 1,
   "id": "990d93a4",
   "metadata": {},
   "outputs": [
    {
     "data": {
      "text/html": [
       "<div>\n",
       "<style scoped>\n",
       "    .dataframe tbody tr th:only-of-type {\n",
       "        vertical-align: middle;\n",
       "    }\n",
       "\n",
       "    .dataframe tbody tr th {\n",
       "        vertical-align: top;\n",
       "    }\n",
       "\n",
       "    .dataframe thead th {\n",
       "        text-align: right;\n",
       "    }\n",
       "</style>\n",
       "<table border=\"1\" class=\"dataframe\">\n",
       "  <thead>\n",
       "    <tr style=\"text-align: right;\">\n",
       "      <th></th>\n",
       "      <th>Name</th>\n",
       "      <th>Age</th>\n",
       "      <th>Weight</th>\n",
       "      <th>Height</th>\n",
       "      <th>Gender</th>\n",
       "    </tr>\n",
       "  </thead>\n",
       "  <tbody>\n",
       "    <tr>\n",
       "      <th>0</th>\n",
       "      <td>Rita</td>\n",
       "      <td>27</td>\n",
       "      <td>67</td>\n",
       "      <td>1.65</td>\n",
       "      <td>F</td>\n",
       "    </tr>\n",
       "    <tr>\n",
       "      <th>1</th>\n",
       "      <td>Dexter</td>\n",
       "      <td>35</td>\n",
       "      <td>81</td>\n",
       "      <td>1.84</td>\n",
       "      <td>M</td>\n",
       "    </tr>\n",
       "  </tbody>\n",
       "</table>\n",
       "</div>"
      ],
      "text/plain": [
       "     Name  Age  Weight  Height Gender\n",
       "0    Rita   27      67    1.65      F\n",
       "1  Dexter   35      81    1.84      M"
      ]
     },
     "execution_count": 1,
     "metadata": {},
     "output_type": "execute_result"
    }
   ],
   "source": [
    "import pandas as pd \n",
    "people = pd.read_csv(r\"C:\\Users\\ajaya\\Downloads\\people.csv\")\n",
    "people.head(2)"
   ]
  },
  {
   "cell_type": "markdown",
   "id": "4be98da4",
   "metadata": {},
   "source": [
    "First 2 rows has been displayed from the people dataframe"
   ]
  },
  {
   "cell_type": "code",
   "execution_count": 2,
   "id": "9324fac7",
   "metadata": {},
   "outputs": [
    {
     "data": {
      "text/plain": [
       "0    27\n",
       "1    35\n",
       "2    29\n",
       "3    41\n",
       "Name: Age, dtype: int64"
      ]
     },
     "execution_count": 2,
     "metadata": {},
     "output_type": "execute_result"
    }
   ],
   "source": [
    "ages = people['Age']\n",
    "ages.head()"
   ]
  },
  {
   "cell_type": "markdown",
   "id": "8cf5c35d",
   "metadata": {},
   "source": [
    "Age column was selected and top 4 rows has been displayed"
   ]
  },
  {
   "cell_type": "code",
   "execution_count": 3,
   "id": "335b4bf3",
   "metadata": {},
   "outputs": [
    {
     "data": {
      "text/plain": [
       "0    1.65\n",
       "1    1.84\n",
       "2    1.60\n",
       "3    1.79\n",
       "Name: Height, dtype: float64"
      ]
     },
     "execution_count": 3,
     "metadata": {},
     "output_type": "execute_result"
    }
   ],
   "source": [
    "heights = people['Height']\n",
    "heights.head()"
   ]
  },
  {
   "cell_type": "markdown",
   "id": "43f94c9b",
   "metadata": {},
   "source": [
    "Height column was selected and top 4 rows has been displayed"
   ]
  },
  {
   "cell_type": "code",
   "execution_count": 4,
   "id": "68fe5ed2",
   "metadata": {},
   "outputs": [
    {
     "name": "stdout",
     "output_type": "stream",
     "text": [
      "0      Rita\n",
      "1    Dexter\n",
      "2      Anna\n",
      "3       Bob\n",
      "Name: Name, dtype: object\n",
      "     Name  Age  Weight\n",
      "0    Rita   27      67\n",
      "1  Dexter   35      81\n",
      "2    Anna   29      55\n",
      "3     Bob   41      73\n",
      "   Weight  Height Gender\n",
      "0      67    1.65      F\n",
      "1      81    1.84      M\n",
      "2      55    1.60      F\n",
      "3      73    1.79      M\n"
     ]
    }
   ],
   "source": [
    "first_col = people.iloc[:,0]\n",
    "first_three_cols = people.iloc[:,0:3]\n",
    "last_cols = people.iloc[:,-1]\n",
    "last_3_cols = people.iloc[:,-3:]\n",
    "print(first_col)\n",
    "print(first_three_cols)\n",
    "print(last_3_cols)"
   ]
  },
  {
   "cell_type": "markdown",
   "id": "f0f12a01",
   "metadata": {},
   "source": [
    "First Col , First 3 columns and last 3 columns were selected from dataframe"
   ]
  },
  {
   "cell_type": "code",
   "execution_count": 5,
   "id": "ca2b6afa",
   "metadata": {},
   "outputs": [
    {
     "name": "stdout",
     "output_type": "stream",
     "text": [
      "   Age  Weight  Height\n",
      "0   27      67    1.65\n",
      "1   35      81    1.84\n",
      "2   29      55    1.60\n",
      "3   41      73    1.79\n"
     ]
    }
   ],
   "source": [
    "not_first_and_last = people.iloc[:,1:]\n",
    "not_first_and_last = people.iloc[:, 1:-1]\n",
    "print(not_first_and_last)"
   ]
  },
  {
   "cell_type": "code",
   "execution_count": 6,
   "id": "1934ec0f",
   "metadata": {},
   "outputs": [
    {
     "name": "stdout",
     "output_type": "stream",
     "text": [
      "Name      Rita\n",
      "Age         27\n",
      "Weight      67\n",
      "Height    1.65\n",
      "Gender       F\n",
      "Name: 0, dtype: object\n",
      "Name       Bob\n",
      "Age         41\n",
      "Weight      73\n",
      "Height    1.79\n",
      "Gender       M\n",
      "Name: 3, dtype: object\n"
     ]
    }
   ],
   "source": [
    "first_row = people.loc[0]\n",
    "last_row = people.iloc[-1,:]\n",
    "print(first_row)\n",
    "print(last_row)"
   ]
  },
  {
   "cell_type": "markdown",
   "id": "b9bcdf2f",
   "metadata": {},
   "source": [
    "First row and last row was selected from the dataframe"
   ]
  },
  {
   "cell_type": "code",
   "execution_count": 7,
   "id": "06dfa54e",
   "metadata": {},
   "outputs": [
    {
     "name": "stdout",
     "output_type": "stream",
     "text": [
      "4\n"
     ]
    }
   ],
   "source": [
    "num_rows = people.shape[0]\n",
    "print(num_rows)"
   ]
  },
  {
   "cell_type": "code",
   "execution_count": 8,
   "id": "0d528f4d",
   "metadata": {},
   "outputs": [],
   "source": [
    "num_rows = people.shape[0]\n",
    "first_half = people.iloc[:num_rows // 2]"
   ]
  },
  {
   "cell_type": "markdown",
   "id": "f37b4f69",
   "metadata": {},
   "source": [
    "First half of rows were selected from the dataframe "
   ]
  },
  {
   "cell_type": "code",
   "execution_count": 9,
   "id": "8c89e61b",
   "metadata": {},
   "outputs": [],
   "source": [
    "num_rows = people.shape[0]\n",
    "second_half = people.iloc[num_rows // 2:]\n"
   ]
  },
  {
   "cell_type": "markdown",
   "id": "5484963f",
   "metadata": {},
   "source": [
    "Second half of rows were selected from the dataframe"
   ]
  },
  {
   "cell_type": "code",
   "execution_count": 10,
   "id": "5484ff7c",
   "metadata": {},
   "outputs": [],
   "source": [
    "even_rows = people.iloc[0::2,:]\n"
   ]
  },
  {
   "cell_type": "markdown",
   "id": "b769aca2",
   "metadata": {},
   "source": [
    "All even rows were selected from the dataframe"
   ]
  },
  {
   "cell_type": "code",
   "execution_count": 11,
   "id": "f4d2062c",
   "metadata": {},
   "outputs": [
    {
     "name": "stdout",
     "output_type": "stream",
     "text": [
      "   Weight  Height\n",
      "1      81    1.84\n",
      "3      73    1.79\n"
     ]
    }
   ],
   "source": [
    "odd_rows = people.iloc[1::2,:]\n",
    "odd_rows_weight_height = people[1::2][['Weight', 'Height']]\n",
    "print(odd_rows_weight_height)"
   ]
  },
  {
   "cell_type": "markdown",
   "id": "3c0c1607",
   "metadata": {},
   "source": [
    "All odd rows were selected for weight and Height columns"
   ]
  },
  {
   "cell_type": "code",
   "execution_count": 12,
   "id": "6c490096",
   "metadata": {},
   "outputs": [
    {
     "name": "stdout",
     "output_type": "stream",
     "text": [
      "     Name  Weight  Height\n",
      "0    Rita      67    1.65\n",
      "1  Dexter      81    1.84\n",
      "2    Anna      55    1.60\n",
      "3     Bob      73    1.79\n"
     ]
    }
   ],
   "source": [
    "name_weight_height = people[['Name','Weight','Height']]\n",
    "print(name_weight_height)"
   ]
  },
  {
   "cell_type": "markdown",
   "id": "dd2262d0",
   "metadata": {},
   "source": [
    "All rows were selected for Name , weight and Height Column "
   ]
  },
  {
   "cell_type": "code",
   "execution_count": 13,
   "id": "73b239c7",
   "metadata": {},
   "outputs": [
    {
     "name": "stdout",
     "output_type": "stream",
     "text": [
      "Empty DataFrame\n",
      "Columns: [Name, Age, Weight, Height, Gender]\n",
      "Index: []\n"
     ]
    }
   ],
   "source": [
    "rows_017_031 = people.loc['017':'031']\n",
    "print(rows_017_031)"
   ]
  },
  {
   "cell_type": "markdown",
   "id": "40011a37",
   "metadata": {},
   "source": [
    "All rows from row label 017 and row lable 031 were selected  "
   ]
  },
  {
   "cell_type": "code",
   "execution_count": 14,
   "id": "10639e56",
   "metadata": {},
   "outputs": [
    {
     "name": "stdout",
     "output_type": "stream",
     "text": [
      "Empty DataFrame\n",
      "Columns: [Name, Weight, Height]\n",
      "Index: []\n"
     ]
    }
   ],
   "source": [
    "my_selection = people.loc['042':'065', ['Name','Weight', 'Height']]\n",
    "print(my_selection)"
   ]
  }
 ],
 "metadata": {
  "kernelspec": {
   "display_name": "Python 3 (ipykernel)",
   "language": "python",
   "name": "python3"
  },
  "language_info": {
   "codemirror_mode": {
    "name": "ipython",
    "version": 3
   },
   "file_extension": ".py",
   "mimetype": "text/x-python",
   "name": "python",
   "nbconvert_exporter": "python",
   "pygments_lexer": "ipython3",
   "version": "3.11.5"
  }
 },
 "nbformat": 4,
 "nbformat_minor": 5
}
