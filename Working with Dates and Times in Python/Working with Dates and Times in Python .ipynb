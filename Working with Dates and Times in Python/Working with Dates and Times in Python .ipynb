{
 "cells": [
  {
   "cell_type": "code",
   "execution_count": 1,
   "id": "7688f98d",
   "metadata": {},
   "outputs": [
    {
     "name": "stdout",
     "output_type": "stream",
     "text": [
      "1862-01-22 10:30:47\n"
     ]
    }
   ],
   "source": [
    "import datetime as dt\n",
    "import pytz\n",
    "import csv\n",
    "year = 1862 \n",
    "month = 1\n",
    "day = 22\n",
    "hour = 10\n",
    "minutes = 30\n",
    "seconds = 47\n",
    "time_of_year = dt.datetime(year,month,day,hour,minutes,seconds)\n",
    "print(time_of_year)"
   ]
  },
  {
   "cell_type": "code",
   "execution_count": 2,
   "id": "34edba81",
   "metadata": {},
   "outputs": [
    {
     "name": "stdout",
     "output_type": "stream",
     "text": [
      "2020/01/25 15:25:13\n"
     ]
    }
   ],
   "source": [
    "time_to_format = dt.datetime(2020, 1, 25, 15, 25, 13)\n",
    "print(time_to_format.strftime(\"%Y/%m/%d %H:%M:%S\"))"
   ]
  },
  {
   "cell_type": "code",
   "execution_count": 3,
   "id": "52073636",
   "metadata": {},
   "outputs": [
    {
     "data": {
      "text/plain": [
       "datetime.datetime(2019, 5, 19, 12, 30)"
      ]
     },
     "execution_count": 3,
     "metadata": {},
     "output_type": "execute_result"
    }
   ],
   "source": [
    "time_str = \"12:30 2019-05-19\"\n",
    "date_object = dt.datetime.strptime(time_str, \"%H:%M %Y-%m-%d\")\n",
    "date_object"
   ]
  },
  {
   "cell_type": "code",
   "execution_count": 4,
   "id": "a25d58cc",
   "metadata": {},
   "outputs": [
    {
     "data": {
      "text/plain": [
       "datetime.datetime(2024, 1, 7, 16, 0, 14, 420026, tzinfo=<DstTzInfo 'America/New_York' EST-1 day, 19:00:00 STD>)"
      ]
     },
     "execution_count": 4,
     "metadata": {},
     "output_type": "execute_result"
    }
   ],
   "source": [
    "my_timezone_name = 'America/New_York' \n",
    "time_now = dt.datetime.now(pytz.timezone(my_timezone_name))\n",
    "time_now"
   ]
  },
  {
   "cell_type": "code",
   "execution_count": 5,
   "id": "0298fe53",
   "metadata": {},
   "outputs": [
    {
     "name": "stdout",
     "output_type": "stream",
     "text": [
      "-11970 days, 7:59:45.564815\n"
     ]
    }
   ],
   "source": [
    "time_now = dt.datetime.now()\n",
    "time_birthday = dt.datetime(1991,4,1)\n",
    "time_to_birthday = time_birthday - time_now\n",
    "print(time_to_birthday)"
   ]
  },
  {
   "cell_type": "code",
   "execution_count": 6,
   "id": "ef233b71",
   "metadata": {},
   "outputs": [],
   "source": [
    "def write_csv(file_name, rows):\n",
    "    import csv\n",
    "    f = open(file_name, 'w')\n",
    "    writer = csv.writer(f)\n",
    "    for row in rows:\n",
    "        writer.writerow(row)\n",
    "    f.close()\n",
    "\n",
    "# Write your solution below\n",
    "import csv \n",
    "f = open(r\"C:\\Users\\ajaya\\Downloads\\session_log.csv\")\n",
    "reader = csv.reader(f)\n",
    "rows =  list(reader)[1:]\n",
    "clean_rows = [['user_id','session_start','session_end']]\n",
    "for row in rows:\n",
    "    user_id = row[0]\n",
    "    row = [int(x) for x in row]\n",
    "    start = dt.datetime(row[1],row[2],row[3],row[4],row[5])\n",
    "    end   = dt.datetime(row[6],row[7],row[8],row[9],row[10])\n",
    "    session_start = start.strftime(\"%Y/%m/%d %H:%M\")\n",
    "    session_end =  end.strftime(\"%Y/%m/%d %H:%M\")\n",
    "    clean_rows.append([user_id,session_start,session_end])\n",
    "    \n",
    "write_csv('session_log_clean.csv',clean_rows)"
   ]
  },
  {
   "cell_type": "code",
   "execution_count": 7,
   "id": "9285472e",
   "metadata": {},
   "outputs": [
    {
     "data": {
      "text/plain": [
       "'2018/01/01 01:09'"
      ]
     },
     "execution_count": 7,
     "metadata": {},
     "output_type": "execute_result"
    }
   ],
   "source": [
    "# Find the minimum start time and row id\n",
    "earliest_start = None\n",
    "earliest_session_user_id = None\n",
    "for row in rows:\n",
    "    row = [int(x) for x in row]\n",
    "    session_start = dt.datetime(row[1], row[2], row[3], row[4], row[5])\n",
    "    if earliest_start == None or earliest_start > session_start:\n",
    "        earliest_start = session_start\n",
    "        earliest_session_user_id = row[0]\n",
    "\n",
    "earliest_start_str = earliest_start.strftime(\"%Y/%m/%d %H:%M\")\n",
    "earliest_start_str"
   ]
  },
  {
   "cell_type": "code",
   "execution_count": 8,
   "id": "46917949",
   "metadata": {},
   "outputs": [
    {
     "name": "stdout",
     "output_type": "stream",
     "text": [
      "2020-01-02 09:37:00\n"
     ]
    },
    {
     "data": {
      "text/plain": [
       "'2020/01/02 09:37'"
      ]
     },
     "execution_count": 8,
     "metadata": {},
     "output_type": "execute_result"
    }
   ],
   "source": [
    "# Find the minimum start time and row id\n",
    "latest_end = None\n",
    "latest_session_user_id = None\n",
    "for row in rows:\n",
    "    row = [int(x) for x in row]\n",
    "    session_end = dt.datetime(row[6], row[7], row[8], row[9], row[10])\n",
    "    if latest_end == None or session_end > latest_end:\n",
    "        latest_end = session_end\n",
    "        latest_session_user_id = row[0]\n",
    "        \n",
    "print(latest_end)\n",
    "latest_start_str = latest_end.strftime(\"%Y/%m/%d %H:%M\")\n",
    "latest_start_str"
   ]
  },
  {
   "cell_type": "code",
   "execution_count": 9,
   "id": "766bcde9",
   "metadata": {},
   "outputs": [
    {
     "data": {
      "text/plain": [
       "51"
      ]
     },
     "execution_count": 9,
     "metadata": {},
     "output_type": "execute_result"
    }
   ],
   "source": [
    "#Find longest Duration\n",
    "max_duration = None\n",
    "for row in rows:\n",
    "    user_id = row[0]\n",
    "    row = [int(x) for x in row]\n",
    "    session_start = dt.datetime(row[1],row[2],row[3],row[4],row[5])\n",
    "    session_end  = dt.datetime(row[6],row[7],row[8],row[9],row[10])\n",
    "    duration =    session_end - session_start\n",
    "    if max_duration == None or duration > max_duration:\n",
    "        max_duration = duration\n",
    "        \n",
    "\n",
    "days = max_duration.days\n",
    "hours = (max_duration.seconds) // 3600\n",
    "minutes = (max_duration.seconds % 3600) // 60\n",
    "days\n",
    "hours\n",
    "minutes"
   ]
  },
  {
   "cell_type": "code",
   "execution_count": 10,
   "id": "2608c799",
   "metadata": {},
   "outputs": [],
   "source": [
    "min_duration = None\n",
    "for row in rows:\n",
    "    user_id = row[0]\n",
    "    row = [int(x) for x in row]\n",
    "    session_start = dt.datetime(row[1],row[2],row[3],row[4],row[5])\n",
    "    session_end  = dt.datetime(row[6],row[7],row[8],row[9],row[10])\n",
    "    duration =    session_end - session_start\n",
    "    if min_duration == None or duration < min_duration:\n",
    "        min_duration = duration\n",
    "        \n",
    "\n",
    "days = min_duration.days\n",
    "hours = (min_duration.seconds) // 3600\n",
    "minutes = (min_duration.seconds % 3600) // 60"
   ]
  },
  {
   "cell_type": "code",
   "execution_count": 11,
   "id": "bbcfebe0",
   "metadata": {},
   "outputs": [
    {
     "name": "stdout",
     "output_type": "stream",
     "text": [
      "1053\n"
     ]
    }
   ],
   "source": [
    "# Find the maximum end time and row id\n",
    "start_date = dt.datetime(2019, 2, 10, 15, 30)\n",
    "end_date = dt.datetime(2019, 4, 27, 10, 45)\n",
    "total_sessions = 0\n",
    "for row in rows:\n",
    "    row = [int(x) for x in row]\n",
    "    session_start = dt.datetime(row[1], row[2], row[3], row[4], row[5])\n",
    "    session_end   = dt.datetime(row[6], row[7], row[8], row[9], row[10])\n",
    "    if start_date <= session_start and session_end <= end_date:\n",
    "        total_sessions += 1\n",
    "\n",
    "print(total_sessions)"
   ]
  },
  {
   "cell_type": "code",
   "execution_count": 12,
   "id": "e67ef17a",
   "metadata": {},
   "outputs": [
    {
     "name": "stdout",
     "output_type": "stream",
     "text": [
      "19\n"
     ]
    }
   ],
   "source": [
    "# Defining class\n",
    "class Event():\n",
    "    \n",
    "    def __init__(self, time, is_start):\n",
    "        self.time = time\n",
    "        self.is_start = is_start\n",
    "    \n",
    "    def __lt__(self, other):\n",
    "        \"\"\"\n",
    "        Function used to sort the events\n",
    "        \"\"\"\n",
    "        if self.time == other.time:\n",
    "            return self.is_start\n",
    "        return self.time < other.time\n",
    "    \n",
    "    \n",
    "# Create all events\n",
    "events = []\n",
    "for row in rows:\n",
    "    row = [int(x) for x in row]\n",
    "    session_start = dt.datetime(row[1], row[2], row[3], row[4], row[5])\n",
    "    session_end = dt.datetime(row[6], row[7], row[8], row[9], row[10])\n",
    "    start_event = Event(session_start, True)\n",
    "    end_event = Event(session_end, False)\n",
    "    events.append(start_event)\n",
    "    events.append(end_event)\n",
    "\n",
    "# Sort the events by time, break ties by putting end events first\n",
    "events.sort()\n",
    "\n",
    "# Calculate the maximum number of simultaneous sessions\n",
    "session_count = 0\n",
    "max_sessions = None\n",
    "for event in events:\n",
    "    if event.is_start:\n",
    "        session_count += 1\n",
    "    else:\n",
    "        session_count -= 1\n",
    "    if max_sessions == None or session_count > max_sessions:\n",
    "        max_sessions = session_count\n",
    "\n",
    "print(max_sessions)    "
   ]
  },
  {
   "cell_type": "code",
   "execution_count": null,
   "id": "148e7b29",
   "metadata": {},
   "outputs": [],
   "source": []
  }
 ],
 "metadata": {
  "kernelspec": {
   "display_name": "Python 3 (ipykernel)",
   "language": "python",
   "name": "python3"
  },
  "language_info": {
   "codemirror_mode": {
    "name": "ipython",
    "version": 3
   },
   "file_extension": ".py",
   "mimetype": "text/x-python",
   "name": "python",
   "nbconvert_exporter": "python",
   "pygments_lexer": "ipython3",
   "version": "3.11.5"
  }
 },
 "nbformat": 4,
 "nbformat_minor": 5
}
