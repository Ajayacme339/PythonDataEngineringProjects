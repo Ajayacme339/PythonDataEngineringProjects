{
 "cells": [
  {
   "cell_type": "markdown",
   "id": "32f100ea",
   "metadata": {},
   "source": [
    "# The Purpose of this project is to select elements from NumPy Array"
   ]
  },
  {
   "cell_type": "code",
   "execution_count": 1,
   "id": "2bc49e9e",
   "metadata": {},
   "outputs": [
    {
     "name": "stdout",
     "output_type": "stream",
     "text": [
      "[7 5 9 1 2]\n"
     ]
    }
   ],
   "source": [
    "import numpy as np\n",
    "values = [7, 4, 5, 8, 9, 0, 1, 3, 2, 6]\n",
    "x = np.array(values)\n",
    "even = x[::2]\n",
    "print(even)"
   ]
  },
  {
   "cell_type": "code",
   "execution_count": 2,
   "id": "1e284b9d",
   "metadata": {},
   "outputs": [
    {
     "name": "stdout",
     "output_type": "stream",
     "text": [
      "[4 8 0 3 6]\n"
     ]
    }
   ],
   "source": [
    "values = [7, 4, 5, 8, 9, 0, 1, 3, 2, 6]\n",
    "x = np.array(values)\n",
    "odd = x[1::2]\n",
    "print(odd)"
   ]
  },
  {
   "cell_type": "code",
   "execution_count": 3,
   "id": "fd0e30fe",
   "metadata": {},
   "outputs": [
    {
     "name": "stdout",
     "output_type": "stream",
     "text": [
      "[6 2 3 1 0 9 8 5 4 7]\n"
     ]
    }
   ],
   "source": [
    "values = [7, 4, 5, 8, 9, 0, 1, 3, 2, 6]\n",
    "x = np.array(values)\n",
    "reverse = np.flip(x,axis = 0)\n",
    "print(reverse)"
   ]
  },
  {
   "cell_type": "code",
   "execution_count": 4,
   "id": "e7f91a3c",
   "metadata": {},
   "outputs": [
    {
     "name": "stdout",
     "output_type": "stream",
     "text": [
      "[1 2]\n",
      "[1 2]\n"
     ]
    }
   ],
   "source": [
    "def first_half(x):\n",
    "    return x[:len(x)//2]\n",
    "\n",
    "x = np.array([1, 2, 3, 4])\n",
    "print(first_half(x))\n",
    "\n",
    "x = np.array([1, 2, 3, 4, 5])\n",
    "print(first_half(x))"
   ]
  },
  {
   "cell_type": "code",
   "execution_count": 5,
   "id": "cd69eb84",
   "metadata": {},
   "outputs": [
    {
     "name": "stdout",
     "output_type": "stream",
     "text": [
      "[3 4]\n",
      "[3 4 5]\n"
     ]
    }
   ],
   "source": [
    "def second_half(x):\n",
    "    return x[len(x)//2:]\n",
    "\n",
    "x = np.array([1, 2, 3, 4])\n",
    "print(second_half(x))\n",
    "\n",
    "x = np.array([1, 2, 3, 4, 5])\n",
    "print(second_half(x))"
   ]
  },
  {
   "cell_type": "code",
   "execution_count": 6,
   "id": "b3b5de82",
   "metadata": {},
   "outputs": [
    {
     "name": "stdout",
     "output_type": "stream",
     "text": [
      "[5 7 4 6 3 9 2 1 8 0]\n"
     ]
    }
   ],
   "source": [
    "values1 = [5, 7, 4, 6, 3, 9]\n",
    "values2 = [2, 1, 8, 0]\n",
    "x = np.array(values1)\n",
    "y = np.array(values2)\n",
    "concat = np.concatenate([x,y])\n",
    "print(concat)"
   ]
  },
  {
   "cell_type": "code",
   "execution_count": 7,
   "id": "a088ef81",
   "metadata": {},
   "outputs": [
    {
     "name": "stdout",
     "output_type": "stream",
     "text": [
      "[ 1  2  8  9 10]\n"
     ]
    }
   ],
   "source": [
    "def mix(x,y):\n",
    "    return np.concatenate([x[:len(x)//2], y[len(y)//2:]])\n",
    "    \n",
    "\n",
    "x = np.array([1, 2, 3, 4, 5])\n",
    "y = np.array([6, 7, 8, 9, 10])\n",
    "z = mix(x, y)\n",
    "print(z)"
   ]
  },
  {
   "cell_type": "code",
   "execution_count": 8,
   "id": "2e3a363b",
   "metadata": {},
   "outputs": [
    {
     "name": "stdout",
     "output_type": "stream",
     "text": [
      "[6 3 0 8 4]\n"
     ]
    }
   ],
   "source": [
    "values = [7, 4, 5, 8, 9, 0, 1, 3, 2, 6]\n",
    "x = np.array(values)\n",
    "reverse_skip = x[::-2]\n",
    "print(reverse_skip)"
   ]
  },
  {
   "cell_type": "code",
   "execution_count": 9,
   "id": "c84f6820",
   "metadata": {},
   "outputs": [
    {
     "name": "stdout",
     "output_type": "stream",
     "text": [
      "[[4 6 4 6 3 9 2]\n",
      " [8 8 7 8 3 1 2]\n",
      " [5 7 1 7 6 7 1]\n",
      " [3 2 1 2 6 9 3]\n",
      " [7 9 5 4 1 5 9]\n",
      " [9 9 8 5 5 6 5]]\n"
     ]
    }
   ],
   "source": [
    "values = [\n",
    "    [5, 6, 5, 5, 8, 9, 9], \n",
    "    [9, 5, 1, 4, 5, 9, 7], \n",
    "    [3, 9, 6, 2, 1, 2, 3], \n",
    "    [1, 7, 6, 7, 1, 7, 5], \n",
    "    [2, 1, 3, 8, 7, 8, 8], \n",
    "    [2, 9, 3, 6, 4, 6, 4]\n",
    "]\n",
    "x = np.array(values)\n",
    "reverse_2d = x[::-1, ::-1]\n",
    "print(reverse_2d)"
   ]
  },
  {
   "cell_type": "code",
   "execution_count": 10,
   "id": "089c3d3c",
   "metadata": {},
   "outputs": [
    {
     "name": "stdout",
     "output_type": "stream",
     "text": [
      "[[ 5  6  7  8]\n",
      " [17 18 19 20]\n",
      " [13 14 15 16]]\n"
     ]
    }
   ],
   "source": [
    "def select_rows(x, row_indexes):\n",
    "    return x[row_indexes]\n",
    "\n",
    "x = np.array([[ 1,  2,  3,  4], [ 5,  6,  7,  8], [ 9, 10, 11, 12], [13, 14, 15, 16], [17, 18, 19, 20]])\n",
    "rows_1_4_3 = select_rows(x, [1, 4, 3])\n",
    "print(rows_1_4_3)"
   ]
  },
  {
   "cell_type": "code",
   "execution_count": 11,
   "id": "5025327b",
   "metadata": {},
   "outputs": [
    {
     "name": "stdout",
     "output_type": "stream",
     "text": [
      "[[ 4  1]\n",
      " [ 8  5]\n",
      " [12  9]\n",
      " [16 13]\n",
      " [20 17]]\n"
     ]
    }
   ],
   "source": [
    "def select_columns(x, col_indexes):\n",
    "    return x[:,col_indexes]\n",
    "\n",
    "\n",
    "x = np.array([[ 1,  2,  3,  4], [ 5,  6,  7,  8], [ 9, 10, 11, 12], [13, 14, 15, 16], [17, 18, 19, 20]])\n",
    "cols_3_0 = select_columns(x, [3, 0])\n",
    "print(cols_3_0)"
   ]
  },
  {
   "cell_type": "code",
   "execution_count": 12,
   "id": "df89c2fa",
   "metadata": {},
   "outputs": [
    {
     "name": "stdout",
     "output_type": "stream",
     "text": [
      "[[5 6 7 8]\n",
      " [5 6 7 8]\n",
      " [5 6 7 8]\n",
      " [5 6 7 8]]\n"
     ]
    }
   ],
   "source": [
    "def copy_row_k_times(x,row_index,num_copies):\n",
    "    return x[[row_index] * num_copies]\n",
    "\n",
    "\n",
    "x = np.array([[ 1,  2,  3,  4], [ 5,  6,  7,  8], [ 9, 10, 11, 12]])\n",
    "row_k_times = copy_row_k_times(x, 1, 4)\n",
    "print(row_k_times)"
   ]
  },
  {
   "cell_type": "code",
   "execution_count": 13,
   "id": "acf69017",
   "metadata": {},
   "outputs": [
    {
     "name": "stdout",
     "output_type": "stream",
     "text": [
      "[[ 2  3]\n",
      " [ 7  8]\n",
      " [12 13]\n",
      " [17 18]]\n",
      "[[ 1  2  3  4  5]\n",
      " [11 12 13 14 15]]\n",
      "[12 13 14]\n"
     ]
    }
   ],
   "source": [
    "array2d = np.array([\n",
    "    [ 1,  2,  3,  4,  5],\n",
    "    [ 6,  7,  8,  9, 10],\n",
    "    [11, 12, 13, 14, 15],\n",
    "    [16, 17, 18, 19, 20],\n",
    "])\n",
    "x = array2d[:,[1,2]]\n",
    "y = array2d[[0,2],:]\n",
    "z = array2d[2,[1,2,3]]\n",
    "print(x)\n",
    "print(y)\n",
    "print(z)"
   ]
  },
  {
   "cell_type": "code",
   "execution_count": 14,
   "id": "e23fb325",
   "metadata": {},
   "outputs": [
    {
     "name": "stdout",
     "output_type": "stream",
     "text": [
      "[[ 6  8 10]\n",
      " [16 18 20]]\n",
      "[[ 2  4]\n",
      " [12 14]]\n",
      "[[ 2  3  4]\n",
      " [12 13 14]]\n"
     ]
    }
   ],
   "source": [
    "array2d = np.array([\n",
    "    [ 1,  2,  3,  4,  5],\n",
    "    [ 6,  7,  8,  9, 10],\n",
    "    [11, 12, 13, 14, 15],\n",
    "    [16, 17, 18, 19, 20],\n",
    "])\n",
    "x = array2d[1::2,::2]\n",
    "y = array2d[::2,1::2]\n",
    "z = array2d[::2,1:4]\n",
    "print(x)\n",
    "print(y)\n",
    "print(z)"
   ]
  },
  {
   "cell_type": "code",
   "execution_count": 15,
   "id": "dde81a8a",
   "metadata": {},
   "outputs": [
    {
     "name": "stdout",
     "output_type": "stream",
     "text": [
      "[[ 3  4  5]\n",
      " [ 8  9 10]\n",
      " [13 14 15]\n",
      " [18 19 20]]\n",
      "[[ 7  8  9 10]\n",
      " [12 13 14 15]\n",
      " [17 18 19 20]]\n",
      "[[ 1  2  3  4]\n",
      " [ 6  7  8  9]\n",
      " [11 12 13 14]]\n"
     ]
    }
   ],
   "source": [
    "array2d = np.array([\n",
    "    [ 1,  2,  3,  4,  5],\n",
    "    [ 6,  7,  8,  9, 10],\n",
    "    [11, 12, 13, 14, 15],\n",
    "    [16, 17, 18, 19, 20],\n",
    "])\n",
    "x = array2d[:,[2,3,4]]\n",
    "y = array2d[1::,[1,2,3,4]]\n",
    "z = array2d[:-1,:-1]\n",
    "print(x)\n",
    "print(y)\n",
    "print(z)"
   ]
  },
  {
   "cell_type": "code",
   "execution_count": 16,
   "id": "7e78e523",
   "metadata": {},
   "outputs": [
    {
     "name": "stdout",
     "output_type": "stream",
     "text": [
      "[[ 9 10 11 12]\n",
      " [ 5  6  7  8]\n",
      " [ 1  2  3  4]]\n"
     ]
    }
   ],
   "source": [
    "def swap_rows(x,row_index1,row_index2):\n",
    "    x[[row_index1,row_index2]] = x[[row_index2,row_index1]]\n",
    "    \n",
    "x = np.array([[1,  2,  3,  4], [5,  6,  7,  8], [9, 10, 11, 12]])\n",
    "swap_rows(x, 0, 2)\n",
    "print(x)"
   ]
  },
  {
   "cell_type": "code",
   "execution_count": 17,
   "id": "5fa46683",
   "metadata": {},
   "outputs": [
    {
     "name": "stdout",
     "output_type": "stream",
     "text": [
      "[[ 2  1  3  4]\n",
      " [ 6  5  7  8]\n",
      " [10  9 11 12]]\n"
     ]
    }
   ],
   "source": [
    "def swap_cols(x,col_index1,col_index2):\n",
    "    x[:,[col_index1,col_index2]] = x[:,[col_index2,col_index1]]\n",
    "\n",
    "x = np.array([[1,  2,  3,  4], [5,  6,  7,  8], [9, 10, 11, 12]])\n",
    "swap_cols(x, 0, 1)\n",
    "print(x)"
   ]
  },
  {
   "cell_type": "code",
   "execution_count": null,
   "id": "2839ff04",
   "metadata": {},
   "outputs": [],
   "source": []
  }
 ],
 "metadata": {
  "kernelspec": {
   "display_name": "Python 3 (ipykernel)",
   "language": "python",
   "name": "python3"
  },
  "language_info": {
   "codemirror_mode": {
    "name": "ipython",
    "version": 3
   },
   "file_extension": ".py",
   "mimetype": "text/x-python",
   "name": "python",
   "nbconvert_exporter": "python",
   "pygments_lexer": "ipython3",
   "version": "3.11.5"
  }
 },
 "nbformat": 4,
 "nbformat_minor": 5
}
